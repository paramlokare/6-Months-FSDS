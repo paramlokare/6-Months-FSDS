{
 "cells": [
  {
   "cell_type": "code",
   "execution_count": 1,
   "id": "23009fb1-c888-4cf3-9f5a-2b71d145b9eb",
   "metadata": {},
   "outputs": [],
   "source": [
    "import numpy as np"
   ]
  },
  {
   "cell_type": "code",
   "execution_count": 2,
   "id": "6ae5ed26-b97d-47a4-871d-ce8a5edd3369",
   "metadata": {},
   "outputs": [
    {
     "data": {
      "text/plain": [
       "'1.26.4'"
      ]
     },
     "execution_count": 2,
     "metadata": {},
     "output_type": "execute_result"
    }
   ],
   "source": [
    "np.__version__"
   ]
  },
  {
   "cell_type": "code",
   "execution_count": 3,
   "id": "77f64cb5-44aa-4450-bb13-a3484be12675",
   "metadata": {},
   "outputs": [
    {
     "data": {
      "text/plain": [
       "[0, 1, 2, 3, 4, 5]"
      ]
     },
     "execution_count": 3,
     "metadata": {},
     "output_type": "execute_result"
    }
   ],
   "source": [
    "my_list = [0,1,2,3,4,5]\n",
    "my_list"
   ]
  },
  {
   "cell_type": "code",
   "execution_count": 4,
   "id": "2fd1a557-5215-4103-8aa3-b8a97fd55958",
   "metadata": {},
   "outputs": [
    {
     "data": {
      "text/plain": [
       "list"
      ]
     },
     "execution_count": 4,
     "metadata": {},
     "output_type": "execute_result"
    }
   ],
   "source": [
    "type(my_list)"
   ]
  },
  {
   "cell_type": "code",
   "execution_count": 6,
   "id": "76369fc8-effb-4d4b-96e7-22796fe22e6f",
   "metadata": {},
   "outputs": [
    {
     "data": {
      "text/plain": [
       "[0, 1, 2, 3, 4, 5]"
      ]
     },
     "execution_count": 6,
     "metadata": {},
     "output_type": "execute_result"
    }
   ],
   "source": [
    "my_list"
   ]
  },
  {
   "cell_type": "code",
   "execution_count": 7,
   "id": "2a0cd1f3-66e9-4baa-a21b-132539f002ef",
   "metadata": {},
   "outputs": [
    {
     "data": {
      "text/plain": [
       "array([0, 1, 2, 3, 4, 5])"
      ]
     },
     "execution_count": 7,
     "metadata": {},
     "output_type": "execute_result"
    }
   ],
   "source": [
    "arr = np.array(my_list)\n",
    "arr"
   ]
  },
  {
   "cell_type": "code",
   "execution_count": 9,
   "id": "b8d652d9-5426-43be-a991-5453141c1abc",
   "metadata": {},
   "outputs": [
    {
     "name": "stdout",
     "output_type": "stream",
     "text": [
      "<class 'numpy.ndarray'>\n"
     ]
    }
   ],
   "source": [
    "print(type(arr))"
   ]
  },
  {
   "cell_type": "code",
   "execution_count": 10,
   "id": "11245963-2b59-42d0-9e0e-e152afd98914",
   "metadata": {},
   "outputs": [
    {
     "data": {
      "text/plain": [
       "array([0, 1, 2, 3, 4, 5, 6, 7, 8, 9])"
      ]
     },
     "execution_count": 10,
     "metadata": {},
     "output_type": "execute_result"
    }
   ],
   "source": [
    "np.arange(10)"
   ]
  },
  {
   "cell_type": "code",
   "execution_count": 11,
   "id": "729aa1e9-4f5e-42ff-afef-43d5850582f0",
   "metadata": {},
   "outputs": [
    {
     "data": {
      "text/plain": [
       "array([10, 11, 12, 13, 14, 15, 16, 17, 18, 19])"
      ]
     },
     "execution_count": 11,
     "metadata": {},
     "output_type": "execute_result"
    }
   ],
   "source": [
    "np.arange(10,20)"
   ]
  },
  {
   "cell_type": "code",
   "execution_count": 14,
   "id": "f07c08ac-ed9c-41ec-a907-068b3e8c12d8",
   "metadata": {},
   "outputs": [
    {
     "data": {
      "text/plain": [
       "array([10, 15, 20, 25, 30, 35, 40, 45])"
      ]
     },
     "execution_count": 14,
     "metadata": {},
     "output_type": "execute_result"
    }
   ],
   "source": [
    "np.arange(10,50,5)"
   ]
  },
  {
   "cell_type": "code",
   "execution_count": 15,
   "id": "f6ed0ecc-7f8d-4050-b09d-1a038fc46f17",
   "metadata": {},
   "outputs": [
    {
     "data": {
      "text/plain": [
       "array([], dtype=int32)"
      ]
     },
     "execution_count": 15,
     "metadata": {},
     "output_type": "execute_result"
    }
   ],
   "source": [
    "np.arange(20,10)  #1st arg < 2nd arg "
   ]
  },
  {
   "cell_type": "code",
   "execution_count": 16,
   "id": "510d9d6b-5109-4357-a6b4-c17a637fa284",
   "metadata": {},
   "outputs": [
    {
     "data": {
      "text/plain": [
       "array([-20, -19, -18, -17, -16, -15, -14, -13, -12, -11, -10,  -9,  -8,\n",
       "        -7,  -6,  -5,  -4,  -3,  -2,  -1,   0,   1,   2,   3,   4,   5,\n",
       "         6,   7,   8,   9])"
      ]
     },
     "execution_count": 16,
     "metadata": {},
     "output_type": "execute_result"
    }
   ],
   "source": [
    "np.arange(-20,10)"
   ]
  },
  {
   "cell_type": "code",
   "execution_count": 17,
   "id": "65b17aa5-a7ce-4146-b786-7abc7d334189",
   "metadata": {},
   "outputs": [
    {
     "data": {
      "text/plain": [
       "array([0., 0., 0., 0., 0.])"
      ]
     },
     "execution_count": 17,
     "metadata": {},
     "output_type": "execute_result"
    }
   ],
   "source": [
    "np.zeros(5) #parameter tunning "
   ]
  },
  {
   "cell_type": "code",
   "execution_count": 18,
   "id": "0c7476b8-6e94-456c-a8f5-905ecb7b284e",
   "metadata": {},
   "outputs": [
    {
     "data": {
      "text/plain": [
       "array([0, 0, 0, 0, 0])"
      ]
     },
     "execution_count": 18,
     "metadata": {},
     "output_type": "execute_result"
    }
   ],
   "source": [
    "np.zeros(5, dtype=int) #hyperparameter tunning "
   ]
  },
  {
   "cell_type": "code",
   "execution_count": 20,
   "id": "d8288a08-e73d-4e8c-bd4e-182c5522c7bb",
   "metadata": {},
   "outputs": [
    {
     "data": {
      "text/plain": [
       "array([[0., 0.],\n",
       "       [0., 0.]])"
      ]
     },
     "execution_count": 20,
     "metadata": {},
     "output_type": "execute_result"
    }
   ],
   "source": [
    "np.zeros([2,2])"
   ]
  },
  {
   "cell_type": "code",
   "execution_count": 21,
   "id": "bd76fd80-0011-453f-ad10-2a0ec5e0d070",
   "metadata": {},
   "outputs": [
    {
     "data": {
      "text/plain": [
       "array([[0., 0., 0., 0.],\n",
       "       [0., 0., 0., 0.],\n",
       "       [0., 0., 0., 0.],\n",
       "       [0., 0., 0., 0.],\n",
       "       [0., 0., 0., 0.]])"
      ]
     },
     "execution_count": 21,
     "metadata": {},
     "output_type": "execute_result"
    }
   ],
   "source": [
    "np.zeros([5,4])"
   ]
  },
  {
   "cell_type": "code",
   "execution_count": 22,
   "id": "8facdcab-a745-4cfb-840d-184937789a53",
   "metadata": {},
   "outputs": [
    {
     "data": {
      "text/plain": [
       "array([[0, 0, 0, 0, 0, 0, 0, 0, 0, 0],\n",
       "       [0, 0, 0, 0, 0, 0, 0, 0, 0, 0],\n",
       "       [0, 0, 0, 0, 0, 0, 0, 0, 0, 0],\n",
       "       [0, 0, 0, 0, 0, 0, 0, 0, 0, 0],\n",
       "       [0, 0, 0, 0, 0, 0, 0, 0, 0, 0],\n",
       "       [0, 0, 0, 0, 0, 0, 0, 0, 0, 0],\n",
       "       [0, 0, 0, 0, 0, 0, 0, 0, 0, 0],\n",
       "       [0, 0, 0, 0, 0, 0, 0, 0, 0, 0],\n",
       "       [0, 0, 0, 0, 0, 0, 0, 0, 0, 0],\n",
       "       [0, 0, 0, 0, 0, 0, 0, 0, 0, 0]])"
      ]
     },
     "execution_count": 22,
     "metadata": {},
     "output_type": "execute_result"
    }
   ],
   "source": [
    "np.zeros((10,10),dtype = int) "
   ]
  },
  {
   "cell_type": "code",
   "execution_count": 23,
   "id": "aa44ff5c-50a2-49ff-b6a3-756d288ac96c",
   "metadata": {},
   "outputs": [
    {
     "data": {
      "text/plain": [
       "array([1., 1.])"
      ]
     },
     "execution_count": 23,
     "metadata": {},
     "output_type": "execute_result"
    }
   ],
   "source": [
    "np.ones(2)"
   ]
  },
  {
   "cell_type": "code",
   "execution_count": 24,
   "id": "33020701-387e-421c-a853-48408d6f2383",
   "metadata": {},
   "outputs": [
    {
     "data": {
      "text/plain": [
       "array([1, 1])"
      ]
     },
     "execution_count": 24,
     "metadata": {},
     "output_type": "execute_result"
    }
   ],
   "source": [
    "np.ones(2, dtype=int)"
   ]
  },
  {
   "cell_type": "code",
   "execution_count": 26,
   "id": "e94e92c3-a534-4a69-b885-37dab06ad5ac",
   "metadata": {},
   "outputs": [
    {
     "data": {
      "text/plain": [
       "array([[1., 1.],\n",
       "       [1., 1.]])"
      ]
     },
     "execution_count": 26,
     "metadata": {},
     "output_type": "execute_result"
    }
   ],
   "source": [
    "np.ones([2,2])"
   ]
  },
  {
   "cell_type": "code",
   "execution_count": 28,
   "id": "ea477274-0529-443e-bbb3-7821ceec10f1",
   "metadata": {},
   "outputs": [
    {
     "data": {
      "text/plain": [
       "array([[1., 1., 1., 1., 1.],\n",
       "       [1., 1., 1., 1., 1.],\n",
       "       [1., 1., 1., 1., 1.],\n",
       "       [1., 1., 1., 1., 1.]])"
      ]
     },
     "execution_count": 28,
     "metadata": {},
     "output_type": "execute_result"
    }
   ],
   "source": [
    "np.ones([4,5])"
   ]
  },
  {
   "cell_type": "code",
   "execution_count": 29,
   "id": "b2f2c344-9faf-47fd-9e52-1f5a795a3cb2",
   "metadata": {},
   "outputs": [
    {
     "data": {
      "text/plain": [
       "array([0, 1, 2, 3, 4, 5])"
      ]
     },
     "execution_count": 29,
     "metadata": {},
     "output_type": "execute_result"
    }
   ],
   "source": [
    "arr"
   ]
  },
  {
   "cell_type": "code",
   "execution_count": 30,
   "id": "aa83d878-784e-4cac-8867-7e087cd15e0c",
   "metadata": {},
   "outputs": [
    {
     "ename": "NameError",
     "evalue": "name 'rand' is not defined",
     "output_type": "error",
     "traceback": [
      "\u001b[1;31m---------------------------------------------------------------------------\u001b[0m",
      "\u001b[1;31mNameError\u001b[0m                                 Traceback (most recent call last)",
      "Cell \u001b[1;32mIn[30], line 1\u001b[0m\n\u001b[1;32m----> 1\u001b[0m rand(\u001b[38;5;241m3\u001b[39m,\u001b[38;5;241m2\u001b[39m)\n",
      "\u001b[1;31mNameError\u001b[0m: name 'rand' is not defined"
     ]
    }
   ],
   "source": [
    "rand(3,2)"
   ]
  },
  {
   "cell_type": "code",
   "execution_count": 31,
   "id": "05d4075b-251a-4bbd-abac-a222ee72cd0c",
   "metadata": {},
   "outputs": [
    {
     "ename": "NameError",
     "evalue": "name 'random' is not defined",
     "output_type": "error",
     "traceback": [
      "\u001b[1;31m---------------------------------------------------------------------------\u001b[0m",
      "\u001b[1;31mNameError\u001b[0m                                 Traceback (most recent call last)",
      "Cell \u001b[1;32mIn[31], line 1\u001b[0m\n\u001b[1;32m----> 1\u001b[0m random\u001b[38;5;241m.\u001b[39mrand(\u001b[38;5;241m3\u001b[39m,\u001b[38;5;241m2\u001b[39m)\n",
      "\u001b[1;31mNameError\u001b[0m: name 'random' is not defined"
     ]
    }
   ],
   "source": [
    "random.rand(3,2)"
   ]
  },
  {
   "cell_type": "code",
   "execution_count": 44,
   "id": "e58594c5-d74c-410f-8a31-7247250a94e1",
   "metadata": {},
   "outputs": [
    {
     "data": {
      "text/plain": [
       "array([[0.22107795, 0.63305594],\n",
       "       [0.62012531, 0.45449202],\n",
       "       [0.83568168, 0.12455735]])"
      ]
     },
     "execution_count": 44,
     "metadata": {},
     "output_type": "execute_result"
    }
   ],
   "source": [
    "np.random.rand(3,2)"
   ]
  },
  {
   "cell_type": "code",
   "execution_count": 50,
   "id": "e1643f4a-61d8-4067-b5c9-f77dd2f28d8d",
   "metadata": {},
   "outputs": [
    {
     "data": {
      "text/plain": [
       "array([0.15168326, 0.68293041, 0.0782184 ])"
      ]
     },
     "execution_count": 50,
     "metadata": {},
     "output_type": "execute_result"
    }
   ],
   "source": [
    "np.random.rand(3)"
   ]
  },
  {
   "cell_type": "code",
   "execution_count": 53,
   "id": "3eaffb86-c4d7-4636-ac83-48ad19225fdc",
   "metadata": {},
   "outputs": [
    {
     "data": {
      "text/plain": [
       "4"
      ]
     },
     "execution_count": 53,
     "metadata": {},
     "output_type": "execute_result"
    }
   ],
   "source": [
    "np.random.randint(4,6)"
   ]
  },
  {
   "cell_type": "code",
   "execution_count": 60,
   "id": "2b1e4e31-3a5a-459f-8444-7524749ef471",
   "metadata": {},
   "outputs": [
    {
     "data": {
      "text/plain": [
       "4"
      ]
     },
     "execution_count": 60,
     "metadata": {},
     "output_type": "execute_result"
    }
   ],
   "source": [
    "np.random.randint(0,10)"
   ]
  },
  {
   "cell_type": "code",
   "execution_count": 71,
   "id": "d7ed8f00-e433-46b9-b0ed-120d87702930",
   "metadata": {},
   "outputs": [
    {
     "data": {
      "text/plain": [
       "array([0, 2, 5, 7])"
      ]
     },
     "execution_count": 71,
     "metadata": {},
     "output_type": "execute_result"
    }
   ],
   "source": [
    "np.random.randint(0,10,4)"
   ]
  },
  {
   "cell_type": "code",
   "execution_count": 72,
   "id": "6a077fa6-0935-43ff-9894-4e9ae6e48724",
   "metadata": {},
   "outputs": [
    {
     "data": {
      "text/plain": [
       "array([0, 3, 0, 5, 5])"
      ]
     },
     "execution_count": 72,
     "metadata": {},
     "output_type": "execute_result"
    }
   ],
   "source": [
    "np.random.randint(0,10,5)"
   ]
  },
  {
   "cell_type": "code",
   "execution_count": 73,
   "id": "47c555de-93c2-4ed0-af45-021455570f3f",
   "metadata": {},
   "outputs": [],
   "source": [
    "n = np.random.randint(10,40,(8,10))"
   ]
  },
  {
   "cell_type": "code",
   "execution_count": 74,
   "id": "36f9e5ff-7424-4bcb-a025-cace9f40caac",
   "metadata": {},
   "outputs": [
    {
     "data": {
      "text/plain": [
       "array([[37, 24, 34, 38, 15, 18, 36, 24, 18, 30],\n",
       "       [20, 16, 30, 24, 10, 19, 33, 35, 11, 20],\n",
       "       [28, 35, 26, 14, 16, 36, 13, 19, 32, 33],\n",
       "       [36, 25, 17, 13, 39, 11, 10, 28, 27, 24],\n",
       "       [28, 31, 22, 15, 11, 12, 11, 13, 30, 31],\n",
       "       [21, 18, 26, 30, 20, 29, 35, 26, 32, 39],\n",
       "       [29, 27, 20, 12, 18, 12, 21, 34, 18, 31],\n",
       "       [36, 35, 21, 19, 36, 21, 34, 37, 39, 14]])"
      ]
     },
     "execution_count": 74,
     "metadata": {},
     "output_type": "execute_result"
    }
   ],
   "source": [
    "n"
   ]
  },
  {
   "cell_type": "code",
   "execution_count": 78,
   "id": "4661f0b4-d8ec-4894-a61f-b17562ec98c0",
   "metadata": {},
   "outputs": [
    {
     "data": {
      "text/plain": [
       "array([21, 18, 26, 30, 20, 29, 35, 26, 32, 39])"
      ]
     },
     "execution_count": 78,
     "metadata": {},
     "output_type": "execute_result"
    }
   ],
   "source": [
    "n[5]"
   ]
  },
  {
   "cell_type": "code",
   "execution_count": 79,
   "id": "57b5ed2c-ef16-4593-8191-1520ccc28c55",
   "metadata": {},
   "outputs": [
    {
     "data": {
      "text/plain": [
       "array([[37, 24, 34, 38, 15, 18, 36, 24, 18, 30],\n",
       "       [20, 16, 30, 24, 10, 19, 33, 35, 11, 20],\n",
       "       [28, 35, 26, 14, 16, 36, 13, 19, 32, 33],\n",
       "       [36, 25, 17, 13, 39, 11, 10, 28, 27, 24],\n",
       "       [28, 31, 22, 15, 11, 12, 11, 13, 30, 31],\n",
       "       [21, 18, 26, 30, 20, 29, 35, 26, 32, 39],\n",
       "       [29, 27, 20, 12, 18, 12, 21, 34, 18, 31],\n",
       "       [36, 35, 21, 19, 36, 21, 34, 37, 39, 14]])"
      ]
     },
     "execution_count": 79,
     "metadata": {},
     "output_type": "execute_result"
    }
   ],
   "source": [
    "n"
   ]
  },
  {
   "cell_type": "code",
   "execution_count": 80,
   "id": "a2df6a7a-b2d8-489a-bf1d-e88fc4564613",
   "metadata": {},
   "outputs": [
    {
     "data": {
      "text/plain": [
       "array([[37, 24, 34, 38, 15, 18, 36, 24, 18, 30],\n",
       "       [20, 16, 30, 24, 10, 19, 33, 35, 11, 20],\n",
       "       [28, 35, 26, 14, 16, 36, 13, 19, 32, 33],\n",
       "       [36, 25, 17, 13, 39, 11, 10, 28, 27, 24],\n",
       "       [28, 31, 22, 15, 11, 12, 11, 13, 30, 31],\n",
       "       [21, 18, 26, 30, 20, 29, 35, 26, 32, 39]])"
      ]
     },
     "execution_count": 80,
     "metadata": {},
     "output_type": "execute_result"
    }
   ],
   "source": [
    "n[0:6]"
   ]
  },
  {
   "cell_type": "code",
   "execution_count": 81,
   "id": "07f6101b-1582-46cb-ab57-8a64c941f098",
   "metadata": {},
   "outputs": [
    {
     "data": {
      "text/plain": [
       "array([[37, 24, 34, 38, 15, 18, 36, 24, 18, 30],\n",
       "       [20, 16, 30, 24, 10, 19, 33, 35, 11, 20],\n",
       "       [28, 35, 26, 14, 16, 36, 13, 19, 32, 33],\n",
       "       [36, 25, 17, 13, 39, 11, 10, 28, 27, 24],\n",
       "       [28, 31, 22, 15, 11, 12, 11, 13, 30, 31],\n",
       "       [21, 18, 26, 30, 20, 29, 35, 26, 32, 39],\n",
       "       [29, 27, 20, 12, 18, 12, 21, 34, 18, 31],\n",
       "       [36, 35, 21, 19, 36, 21, 34, 37, 39, 14]])"
      ]
     },
     "execution_count": 81,
     "metadata": {},
     "output_type": "execute_result"
    }
   ],
   "source": [
    "n"
   ]
  },
  {
   "cell_type": "code",
   "execution_count": 82,
   "id": "de994581-f6cc-495b-8401-e74439a718d5",
   "metadata": {},
   "outputs": [
    {
     "data": {
      "text/plain": [
       "array([[36, 35, 21, 19, 36, 21, 34, 37, 39, 14],\n",
       "       [29, 27, 20, 12, 18, 12, 21, 34, 18, 31],\n",
       "       [21, 18, 26, 30, 20, 29, 35, 26, 32, 39],\n",
       "       [28, 31, 22, 15, 11, 12, 11, 13, 30, 31],\n",
       "       [36, 25, 17, 13, 39, 11, 10, 28, 27, 24],\n",
       "       [28, 35, 26, 14, 16, 36, 13, 19, 32, 33],\n",
       "       [20, 16, 30, 24, 10, 19, 33, 35, 11, 20],\n",
       "       [37, 24, 34, 38, 15, 18, 36, 24, 18, 30]])"
      ]
     },
     "execution_count": 82,
     "metadata": {},
     "output_type": "execute_result"
    }
   ],
   "source": [
    "n[::-1]"
   ]
  },
  {
   "cell_type": "code",
   "execution_count": 83,
   "id": "d6e2974e-cf11-4d58-81b3-eaf21abba463",
   "metadata": {},
   "outputs": [
    {
     "data": {
      "text/plain": [
       "array([[37, 24, 34, 38, 15, 18, 36, 24, 18, 30],\n",
       "       [20, 16, 30, 24, 10, 19, 33, 35, 11, 20],\n",
       "       [28, 35, 26, 14, 16, 36, 13, 19, 32, 33],\n",
       "       [36, 25, 17, 13, 39, 11, 10, 28, 27, 24],\n",
       "       [28, 31, 22, 15, 11, 12, 11, 13, 30, 31],\n",
       "       [21, 18, 26, 30, 20, 29, 35, 26, 32, 39],\n",
       "       [29, 27, 20, 12, 18, 12, 21, 34, 18, 31],\n",
       "       [36, 35, 21, 19, 36, 21, 34, 37, 39, 14]])"
      ]
     },
     "execution_count": 83,
     "metadata": {},
     "output_type": "execute_result"
    }
   ],
   "source": [
    "n"
   ]
  },
  {
   "cell_type": "code",
   "execution_count": 85,
   "id": "b5ce977a-228e-4e03-ba3c-92c96a371c63",
   "metadata": {},
   "outputs": [
    {
     "data": {
      "text/plain": [
       "array([[37, 24, 34, 38, 15, 18, 36, 24, 18, 30],\n",
       "       [28, 35, 26, 14, 16, 36, 13, 19, 32, 33],\n",
       "       [28, 31, 22, 15, 11, 12, 11, 13, 30, 31],\n",
       "       [29, 27, 20, 12, 18, 12, 21, 34, 18, 31]])"
      ]
     },
     "execution_count": 85,
     "metadata": {},
     "output_type": "execute_result"
    }
   ],
   "source": [
    "n[::2]"
   ]
  },
  {
   "cell_type": "code",
   "execution_count": 86,
   "id": "e161341d-773c-4ea5-9b80-2f575bbc25fb",
   "metadata": {},
   "outputs": [
    {
     "data": {
      "text/plain": [
       "array([[37, 24, 34, 38, 15, 18, 36, 24, 18, 30],\n",
       "       [20, 16, 30, 24, 10, 19, 33, 35, 11, 20],\n",
       "       [28, 35, 26, 14, 16, 36, 13, 19, 32, 33],\n",
       "       [36, 25, 17, 13, 39, 11, 10, 28, 27, 24],\n",
       "       [28, 31, 22, 15, 11, 12, 11, 13, 30, 31],\n",
       "       [21, 18, 26, 30, 20, 29, 35, 26, 32, 39],\n",
       "       [29, 27, 20, 12, 18, 12, 21, 34, 18, 31],\n",
       "       [36, 35, 21, 19, 36, 21, 34, 37, 39, 14]])"
      ]
     },
     "execution_count": 86,
     "metadata": {},
     "output_type": "execute_result"
    }
   ],
   "source": [
    "n"
   ]
  },
  {
   "cell_type": "code",
   "execution_count": 87,
   "id": "62a1e2a6-e824-461c-b9e6-12a00e91ada7",
   "metadata": {},
   "outputs": [
    {
     "data": {
      "text/plain": [
       "array([37, 24, 34, 38, 15, 18, 36, 24, 18, 30])"
      ]
     },
     "execution_count": 87,
     "metadata": {},
     "output_type": "execute_result"
    }
   ],
   "source": [
    "n[0]"
   ]
  },
  {
   "cell_type": "code",
   "execution_count": 88,
   "id": "c5159a20-c1b5-48b5-aa51-396c93f18086",
   "metadata": {},
   "outputs": [
    {
     "data": {
      "text/plain": [
       "array([[37, 24, 34, 38, 15, 18, 36, 24, 18, 30],\n",
       "       [20, 16, 30, 24, 10, 19, 33, 35, 11, 20],\n",
       "       [28, 35, 26, 14, 16, 36, 13, 19, 32, 33],\n",
       "       [36, 25, 17, 13, 39, 11, 10, 28, 27, 24],\n",
       "       [28, 31, 22, 15, 11, 12, 11, 13, 30, 31],\n",
       "       [21, 18, 26, 30, 20, 29, 35, 26, 32, 39],\n",
       "       [29, 27, 20, 12, 18, 12, 21, 34, 18, 31],\n",
       "       [36, 35, 21, 19, 36, 21, 34, 37, 39, 14]])"
      ]
     },
     "execution_count": 88,
     "metadata": {},
     "output_type": "execute_result"
    }
   ],
   "source": [
    "n"
   ]
  },
  {
   "cell_type": "code",
   "execution_count": null,
   "id": "95091095-23ba-41fb-9efe-57714c1d1ddb",
   "metadata": {},
   "outputs": [],
   "source": [
    "n[0:5]"
   ]
  },
  {
   "cell_type": "code",
   "execution_count": 89,
   "id": "a3d2b6c0-9176-4338-95b2-df9a856f791d",
   "metadata": {},
   "outputs": [
    {
     "data": {
      "text/plain": [
       "18"
      ]
     },
     "execution_count": 89,
     "metadata": {},
     "output_type": "execute_result"
    }
   ],
   "source": [
    "n[0,5]"
   ]
  },
  {
   "cell_type": "code",
   "execution_count": 90,
   "id": "29105eb1-5712-4fee-b1f9-82c7bb9e97da",
   "metadata": {},
   "outputs": [
    {
     "data": {
      "text/plain": [
       "array([[37, 24, 34, 38, 15, 18, 36, 24, 18, 30],\n",
       "       [20, 16, 30, 24, 10, 19, 33, 35, 11, 20],\n",
       "       [28, 35, 26, 14, 16, 36, 13, 19, 32, 33],\n",
       "       [36, 25, 17, 13, 39, 11, 10, 28, 27, 24],\n",
       "       [28, 31, 22, 15, 11, 12, 11, 13, 30, 31],\n",
       "       [21, 18, 26, 30, 20, 29, 35, 26, 32, 39],\n",
       "       [29, 27, 20, 12, 18, 12, 21, 34, 18, 31],\n",
       "       [36, 35, 21, 19, 36, 21, 34, 37, 39, 14]])"
      ]
     },
     "execution_count": 90,
     "metadata": {},
     "output_type": "execute_result"
    }
   ],
   "source": [
    "n"
   ]
  },
  {
   "cell_type": "code",
   "execution_count": 91,
   "id": "929c0e51-4f46-498d-bd09-84062e5b58d0",
   "metadata": {},
   "outputs": [
    {
     "data": {
      "text/plain": [
       "26"
      ]
     },
     "execution_count": 91,
     "metadata": {},
     "output_type": "execute_result"
    }
   ],
   "source": [
    "n[5,-3]"
   ]
  },
  {
   "cell_type": "code",
   "execution_count": 93,
   "id": "67de2d04-d22f-4e91-89e3-3b48ffd10941",
   "metadata": {},
   "outputs": [
    {
     "name": "stdout",
     "output_type": "stream",
     "text": [
      "10\n"
     ]
    }
   ],
   "source": [
    "import numpy as np\n",
    "\n",
    "x = np.int32(10)\n",
    "print(x)        # Output: 10\n",
    "#print(type(x)) "
   ]
  },
  {
   "cell_type": "code",
   "execution_count": 100,
   "id": "2dc246d6-581b-4e41-b2f4-8f9155bdcfba",
   "metadata": {},
   "outputs": [
    {
     "data": {
      "text/plain": [
       "array([[ 1,  2],\n",
       "       [ 3,  4],\n",
       "       [ 5,  6],\n",
       "       [ 7,  8],\n",
       "       [ 9, 10],\n",
       "       [11, 12]])"
      ]
     },
     "execution_count": 100,
     "metadata": {},
     "output_type": "execute_result"
    }
   ],
   "source": [
    "np.arange(1,13).reshape(6,2)"
   ]
  },
  {
   "cell_type": "code",
   "execution_count": 95,
   "id": "c046dbe1-e6eb-47b8-a438-0e35710b5b5b",
   "metadata": {},
   "outputs": [
    {
     "ename": "ValueError",
     "evalue": "cannot reshape array of size 12 into shape (5,5)",
     "output_type": "error",
     "traceback": [
      "\u001b[1;31m---------------------------------------------------------------------------\u001b[0m",
      "\u001b[1;31mValueError\u001b[0m                                Traceback (most recent call last)",
      "Cell \u001b[1;32mIn[95], line 1\u001b[0m\n\u001b[1;32m----> 1\u001b[0m np\u001b[38;5;241m.\u001b[39marange(\u001b[38;5;241m1\u001b[39m,\u001b[38;5;241m13\u001b[39m)\u001b[38;5;241m.\u001b[39mreshape(\u001b[38;5;241m5\u001b[39m,\u001b[38;5;241m5\u001b[39m)\n",
      "\u001b[1;31mValueError\u001b[0m: cannot reshape array of size 12 into shape (5,5)"
     ]
    }
   ],
   "source": [
    "np.arange(1,13).reshape(5,5)"
   ]
  },
  {
   "cell_type": "code",
   "execution_count": null,
   "id": "f0fb20a1-10fa-46a3-b8bb-0f5962175490",
   "metadata": {},
   "outputs": [],
   "source": []
  }
 ],
 "metadata": {
  "kernelspec": {
   "display_name": "Python 3 (ipykernel)",
   "language": "python",
   "name": "python3"
  },
  "language_info": {
   "codemirror_mode": {
    "name": "ipython",
    "version": 3
   },
   "file_extension": ".py",
   "mimetype": "text/x-python",
   "name": "python",
   "nbconvert_exporter": "python",
   "pygments_lexer": "ipython3",
   "version": "3.12.7"
  }
 },
 "nbformat": 4,
 "nbformat_minor": 5
}
