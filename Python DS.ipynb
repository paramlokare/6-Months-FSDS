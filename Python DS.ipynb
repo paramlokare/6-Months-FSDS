{
 "cells": [
  {
   "cell_type": "markdown",
   "id": "68a7b9b2-5efa-49b5-8613-cfa5d7035a9e",
   "metadata": {},
   "source": [
    "# 1- NUMBERS "
   ]
  },
  {
   "cell_type": "code",
   "execution_count": 1,
   "id": "a9c8b21d-d304-472e-9e3a-467b8df91491",
   "metadata": {},
   "outputs": [
    {
     "data": {
      "text/plain": [
       "10"
      ]
     },
     "execution_count": 1,
     "metadata": {},
     "output_type": "execute_result"
    }
   ],
   "source": [
    "10 "
   ]
  },
  {
   "cell_type": "code",
   "execution_count": 2,
   "id": "59610610-83bd-4282-8bde-313c7c20054c",
   "metadata": {},
   "outputs": [
    {
     "data": {
      "text/plain": [
       "5"
      ]
     },
     "execution_count": 2,
     "metadata": {},
     "output_type": "execute_result"
    }
   ],
   "source": [
    "5"
   ]
  },
  {
   "cell_type": "code",
   "execution_count": 3,
   "id": "96192562-b497-49c0-92d9-702842a4211b",
   "metadata": {},
   "outputs": [
    {
     "data": {
      "text/plain": [
       "15"
      ]
     },
     "execution_count": 3,
     "metadata": {},
     "output_type": "execute_result"
    }
   ],
   "source": [
    "10 + 5"
   ]
  },
  {
   "cell_type": "code",
   "execution_count": 4,
   "id": "0a823259-557b-4519-b51b-bf955669d9f1",
   "metadata": {},
   "outputs": [
    {
     "data": {
      "text/plain": [
       "5"
      ]
     },
     "execution_count": 4,
     "metadata": {},
     "output_type": "execute_result"
    }
   ],
   "source": [
    "10- 5"
   ]
  },
  {
   "cell_type": "code",
   "execution_count": 5,
   "id": "90fc2586-af74-41e4-ad80-83e8bfc95c2b",
   "metadata": {},
   "outputs": [
    {
     "data": {
      "text/plain": [
       "2.0"
      ]
     },
     "execution_count": 5,
     "metadata": {},
     "output_type": "execute_result"
    }
   ],
   "source": [
    "10 / 5  #FLOAT DIVISION"
   ]
  },
  {
   "cell_type": "code",
   "execution_count": 6,
   "id": "46db9cb5-9e5c-4910-b630-999babe519e9",
   "metadata": {},
   "outputs": [
    {
     "data": {
      "text/plain": [
       "2"
      ]
     },
     "execution_count": 6,
     "metadata": {},
     "output_type": "execute_result"
    }
   ],
   "source": [
    "10 // 5 #INT DIVISION"
   ]
  },
  {
   "cell_type": "markdown",
   "id": "c5c9f10c-b683-4d39-a929-db6e32db1f6b",
   "metadata": {},
   "source": [
    "# 2- TEXT ( STRING)"
   ]
  },
  {
   "cell_type": "code",
   "execution_count": 7,
   "id": "d06fbee9-1c0c-4104-a564-17a4e1bfad7b",
   "metadata": {},
   "outputs": [
    {
     "data": {
      "text/plain": [
       "'welcome to 7pm fsdsbatch under prakash senapati guidance'"
      ]
     },
     "execution_count": 7,
     "metadata": {},
     "output_type": "execute_result"
    }
   ],
   "source": [
    "'welcome to 7pm fsdsbatch under prakash senapati guidance'"
   ]
  },
  {
   "cell_type": "code",
   "execution_count": 8,
   "id": "ef9c71a3-6e9e-45f6-b9c8-469c504c4822",
   "metadata": {},
   "outputs": [
    {
     "data": {
      "text/plain": [
       "'welcome to 7pm fsdsbatch under prakash senapati guidance'"
      ]
     },
     "execution_count": 8,
     "metadata": {},
     "output_type": "execute_result"
    }
   ],
   "source": [
    "\"welcome to 7pm fsdsbatch under prakash senapati guidance\""
   ]
  },
  {
   "cell_type": "code",
   "execution_count": 9,
   "id": "3e80f118-fa3e-4ebb-b233-92a638daf624",
   "metadata": {},
   "outputs": [
    {
     "ename": "SyntaxError",
     "evalue": "incomplete input (3776282572.py, line 1)",
     "output_type": "error",
     "traceback": [
      "\u001b[1;36m  Cell \u001b[1;32mIn[9], line 1\u001b[1;36m\u001b[0m\n\u001b[1;33m    ''' welcome to 7pm fsdsbatch\u001b[0m\n\u001b[1;37m    ^\u001b[0m\n\u001b[1;31mSyntaxError\u001b[0m\u001b[1;31m:\u001b[0m incomplete input\n"
     ]
    }
   ],
   "source": [
    "''' welcome to 7pm fsdsbatch \n",
    "under prakash senapati guidance \""
   ]
  },
  {
   "cell_type": "code",
   "execution_count": null,
   "id": "71069e1a-3e08-47f9-903b-c604ade82aa3",
   "metadata": {},
   "outputs": [],
   "source": [
    "\" welcome to 7pm fsdsbatch \n",
    "under prakash senapati guidance '''"
   ]
  },
  {
   "cell_type": "code",
   "execution_count": null,
   "id": "c486ab18-bbe3-49e0-83bc-a0147fc05b5f",
   "metadata": {},
   "outputs": [],
   "source": [
    "''' welcome to 7pm fsdsbatch \n",
    "under prakash senapati guidance '''"
   ]
  },
  {
   "cell_type": "markdown",
   "id": "20cb0c5b-9af5-49c3-a1ef-b65618474885",
   "metadata": {},
   "source": [
    "# 3- python variable creation \n",
    "\n",
    "- variable name = value"
   ]
  },
  {
   "cell_type": "code",
   "execution_count": null,
   "id": "27ae1617-0085-406e-a6dc-99af3305aa18",
   "metadata": {},
   "outputs": [],
   "source": [
    "v = 9"
   ]
  },
  {
   "cell_type": "code",
   "execution_count": null,
   "id": "4f519689-7c55-4768-9138-c3f17090b27d",
   "metadata": {},
   "outputs": [],
   "source": [
    "v"
   ]
  },
  {
   "cell_type": "code",
   "execution_count": null,
   "id": "b4e06098-579e-4bbb-a63a-b8d99f5490ae",
   "metadata": {},
   "outputs": [],
   "source": [
    "id(v)"
   ]
  },
  {
   "cell_type": "code",
   "execution_count": null,
   "id": "d1c4ccfe-3ba2-46e7-915e-7363eae53d32",
   "metadata": {},
   "outputs": [],
   "source": [
    "9 = v  "
   ]
  },
  {
   "cell_type": "code",
   "execution_count": null,
   "id": "ece13b19-9f2a-4a23-a756-ac29598509e2",
   "metadata": {},
   "outputs": [],
   "source": [
    "9v = 8"
   ]
  },
  {
   "cell_type": "code",
   "execution_count": null,
   "id": "3dfe000d-ddf5-48e4-9892-91c1f7852f11",
   "metadata": {},
   "outputs": [],
   "source": [
    "v9 = 8\n",
    "v9"
   ]
  },
  {
   "cell_type": "code",
   "execution_count": null,
   "id": "3060cbe5-42bb-4dbc-a7c0-9b80fff4b954",
   "metadata": {},
   "outputs": [],
   "source": [
    "var = 10"
   ]
  },
  {
   "cell_type": "code",
   "execution_count": null,
   "id": "52761ebc-030a-4b39-baf4-5bada7e62835",
   "metadata": {},
   "outputs": [],
   "source": [
    "VAR"
   ]
  },
  {
   "cell_type": "code",
   "execution_count": null,
   "id": "df1afed8-0e76-4160-9290-55de6d6fd351",
   "metadata": {},
   "outputs": [],
   "source": [
    "var"
   ]
  },
  {
   "cell_type": "code",
   "execution_count": null,
   "id": "74a06dab-e440-4a01-882b-d9723277e954",
   "metadata": {},
   "outputs": [],
   "source": [
    "nit = 7\n",
    "narehsit "
   ]
  },
  {
   "cell_type": "code",
   "execution_count": null,
   "id": "8566dedf-221f-4edc-a6f6-eca07e24cb5f",
   "metadata": {},
   "outputs": [],
   "source": [
    "puspa1, puspa2 = 2000"
   ]
  },
  {
   "cell_type": "code",
   "execution_count": null,
   "id": "618a3062-b380-4c17-ae68-cb11b9a8d700",
   "metadata": {},
   "outputs": [],
   "source": [
    "puspa1, puspa2 = 2000, 1800"
   ]
  },
  {
   "cell_type": "code",
   "execution_count": null,
   "id": "87df53f0-f15f-4adb-af56-6e26ce494c9b",
   "metadata": {},
   "outputs": [],
   "source": [
    "puspa1\n",
    "puspa2"
   ]
  },
  {
   "cell_type": "code",
   "execution_count": null,
   "id": "708561c8-744a-4d66-815c-d512fbccd7b6",
   "metadata": {},
   "outputs": [],
   "source": [
    "print(puspa1)\n",
    "print(puspa2)"
   ]
  },
  {
   "cell_type": "code",
   "execution_count": null,
   "id": "b49cea3b-de6d-4b77-9aae-70b2d6e9c819",
   "metadata": {},
   "outputs": [],
   "source": [
    "nit@ = 7"
   ]
  },
  {
   "cell_type": "code",
   "execution_count": null,
   "id": "cf2faa4b-e828-41a8-a057-a066dba91ad5",
   "metadata": {},
   "outputs": [],
   "source": [
    "nit$"
   ]
  },
  {
   "cell_type": "code",
   "execution_count": null,
   "id": "0ef695da-121d-4c2c-9f2f-e7f34551ab4a",
   "metadata": {},
   "outputs": [],
   "source": [
    "nit_ = 7\n",
    "nit_"
   ]
  },
  {
   "cell_type": "code",
   "execution_count": null,
   "id": "f27f4bc7-2f9c-4482-83fe-d92b917d8464",
   "metadata": {},
   "outputs": [],
   "source": [
    "if = 78\n",
    "if"
   ]
  },
  {
   "cell_type": "code",
   "execution_count": null,
   "id": "fd0c9c2f-78a5-4f66-9b30-988c1ab015a9",
   "metadata": {},
   "outputs": [],
   "source": [
    "import keyword\n",
    "keyword.kwlist"
   ]
  },
  {
   "cell_type": "code",
   "execution_count": null,
   "id": "822af319-ab9c-42bc-a27e-970471b5cd01",
   "metadata": {},
   "outputs": [],
   "source": [
    "False = 90"
   ]
  },
  {
   "cell_type": "code",
   "execution_count": null,
   "id": "16385464-34ef-4c6e-8184-44f35908c57b",
   "metadata": {},
   "outputs": [],
   "source": [
    "len(keyword.kwlist)"
   ]
  },
  {
   "cell_type": "markdown",
   "id": "118f464f-6531-416a-a4e9-af83f36f7e22",
   "metadata": {},
   "source": [
    "# 28th -- python dattype"
   ]
  },
  {
   "cell_type": "code",
   "execution_count": null,
   "id": "2ff9bd84-857c-475a-9206-2c1f46898a4c",
   "metadata": {},
   "outputs": [],
   "source": [
    "i = 45\n",
    "i"
   ]
  },
  {
   "cell_type": "code",
   "execution_count": null,
   "id": "261a8e42-15cd-4666-a1db-b28096b1c911",
   "metadata": {},
   "outputs": [],
   "source": [
    "type(i) "
   ]
  },
  {
   "cell_type": "code",
   "execution_count": null,
   "id": "a0a8776c-265d-4a43-a604-2ded02742465",
   "metadata": {},
   "outputs": [],
   "source": [
    "f = 110.45\n",
    "f"
   ]
  },
  {
   "cell_type": "code",
   "execution_count": null,
   "id": "8b3b44ba-f0a8-4111-8aec-2c5156022378",
   "metadata": {},
   "outputs": [],
   "source": [
    "type(f)"
   ]
  },
  {
   "cell_type": "code",
   "execution_count": null,
   "id": "7a1b9c1d-6e91-4922-b8e4-55abeecff3a5",
   "metadata": {},
   "outputs": [],
   "source": [
    "f_gold_price = 99999.90"
   ]
  },
  {
   "cell_type": "code",
   "execution_count": null,
   "id": "4e6361d2-da8c-4501-8da0-1480e27eb4fd",
   "metadata": {},
   "outputs": [],
   "source": [
    "f_gold_price"
   ]
  },
  {
   "cell_type": "code",
   "execution_count": null,
   "id": "8f69228e-793b-4bfa-9de2-9f3fdeedfbc4",
   "metadata": {},
   "outputs": [],
   "source": [
    "f1 = 1e0 \n",
    "f1 "
   ]
  },
  {
   "cell_type": "code",
   "execution_count": null,
   "id": "ba00a6d6-4c32-44fb-97e1-810f983f819c",
   "metadata": {},
   "outputs": [],
   "source": [
    "type(f1)"
   ]
  },
  {
   "cell_type": "code",
   "execution_count": null,
   "id": "def32c78-7010-4ab7-80ce-90f7b3bf68b1",
   "metadata": {},
   "outputs": [],
   "source": [
    "f2 = 2e1\n",
    "f2"
   ]
  },
  {
   "cell_type": "code",
   "execution_count": null,
   "id": "886a21f5-8cd8-4dd0-890d-b9f2a10583e7",
   "metadata": {},
   "outputs": [],
   "source": [
    "f3 = 2.4e2\n",
    "f3"
   ]
  },
  {
   "cell_type": "code",
   "execution_count": null,
   "id": "493b7e5d-985a-46ca-8a2a-4f84ef4d2496",
   "metadata": {},
   "outputs": [],
   "source": [
    "f4 = 2.5E3\n",
    "f4"
   ]
  },
  {
   "cell_type": "code",
   "execution_count": null,
   "id": "360fcb57-a4d4-4e18-a0a6-42e70444ea35",
   "metadata": {},
   "outputs": [],
   "source": [
    "f5 = 2.5z1\n",
    "f5"
   ]
  },
  {
   "cell_type": "code",
   "execution_count": null,
   "id": "4345eba9-d440-4537-a3df-4095b006fa7b",
   "metadata": {},
   "outputs": [],
   "source": [
    "true"
   ]
  },
  {
   "cell_type": "code",
   "execution_count": null,
   "id": "b3243ea3-5739-4580-a80e-d61f92b92b9a",
   "metadata": {},
   "outputs": [],
   "source": [
    "import keyword\n",
    "keyword.kwlist"
   ]
  },
  {
   "cell_type": "code",
   "execution_count": null,
   "id": "49de27e0-05af-44dc-9de4-8a977d11ce93",
   "metadata": {},
   "outputs": [],
   "source": [
    "TRUE"
   ]
  },
  {
   "cell_type": "code",
   "execution_count": null,
   "id": "9e7ff08a-8e44-45c0-84e2-f9e1ec690d22",
   "metadata": {},
   "outputs": [],
   "source": [
    "True"
   ]
  },
  {
   "cell_type": "code",
   "execution_count": null,
   "id": "57e5af79-b4cc-4669-8b6d-e1682b5d595f",
   "metadata": {},
   "outputs": [],
   "source": [
    "false"
   ]
  },
  {
   "cell_type": "code",
   "execution_count": null,
   "id": "ec2b971e-a318-4adf-add1-6c10479d6186",
   "metadata": {},
   "outputs": [],
   "source": [
    "False"
   ]
  },
  {
   "cell_type": "code",
   "execution_count": null,
   "id": "59f84706-216d-4a5d-b310-69298de45ce3",
   "metadata": {},
   "outputs": [],
   "source": [
    "True + False "
   ]
  },
  {
   "cell_type": "code",
   "execution_count": null,
   "id": "beba72e1-bc04-4238-a01c-c7be1c8d277a",
   "metadata": {},
   "outputs": [],
   "source": [
    "True + True"
   ]
  },
  {
   "cell_type": "code",
   "execution_count": null,
   "id": "a23292da-002d-4b89-9a86-9044c993e652",
   "metadata": {},
   "outputs": [],
   "source": [
    "True * fALSE"
   ]
  },
  {
   "cell_type": "code",
   "execution_count": null,
   "id": "8206eddd-7184-4f6e-8e32-4392ef941f7f",
   "metadata": {},
   "outputs": [],
   "source": [
    "True * False"
   ]
  },
  {
   "cell_type": "code",
   "execution_count": null,
   "id": "48a29fdf-0a78-4669-80bf-a4ff369fb092",
   "metadata": {},
   "outputs": [],
   "source": [
    "False / True "
   ]
  },
  {
   "cell_type": "code",
   "execution_count": null,
   "id": "9a4e2ed9-f75b-4722-a572-284a5bfddf3a",
   "metadata": {},
   "outputs": [],
   "source": [
    "False // True"
   ]
  },
  {
   "cell_type": "code",
   "execution_count": null,
   "id": "d762649a-fe3a-40a5-b8fe-e3f85d8868a3",
   "metadata": {},
   "outputs": [],
   "source": [
    "True / False "
   ]
  },
  {
   "cell_type": "code",
   "execution_count": null,
   "id": "63ed3925-2183-4bcb-bd6f-a00c416d2c48",
   "metadata": {},
   "outputs": [],
   "source": [
    "True"
   ]
  },
  {
   "cell_type": "code",
   "execution_count": null,
   "id": "0a317289-94ce-4a5f-9cb6-4b002ae93706",
   "metadata": {},
   "outputs": [],
   "source": [
    "int(True)"
   ]
  },
  {
   "cell_type": "code",
   "execution_count": null,
   "id": "e504f4f0-28d6-48ce-bb94-72d37ee2f1e8",
   "metadata": {},
   "outputs": [],
   "source": [
    "int(False)"
   ]
  },
  {
   "cell_type": "markdown",
   "id": "2bd5200b-c4c3-40ed-898c-87fa2edb7b26",
   "metadata": {},
   "source": [
    "# 29th "
   ]
  },
  {
   "cell_type": "markdown",
   "id": "3d0438ce-4223-4a3b-99b5-1ea6e8b15d45",
   "metadata": {},
   "source": [
    "# int, float, bool"
   ]
  },
  {
   "cell_type": "code",
   "execution_count": null,
   "id": "c24fb82c-5d3a-469a-9957-5725d17b107e",
   "metadata": {},
   "outputs": [],
   "source": [
    "c = 1 + 2j\n",
    "c"
   ]
  },
  {
   "cell_type": "code",
   "execution_count": null,
   "id": "7de192b9-d421-4273-b16d-5ec9f4e083ad",
   "metadata": {},
   "outputs": [],
   "source": [
    "type(c)"
   ]
  },
  {
   "cell_type": "code",
   "execution_count": null,
   "id": "0505c012-5d15-46a2-9886-e4cdf76647c2",
   "metadata": {},
   "outputs": [],
   "source": [
    "c.real"
   ]
  },
  {
   "cell_type": "code",
   "execution_count": null,
   "id": "eebfaa79-1bed-4337-9e28-032dda0f5bff",
   "metadata": {},
   "outputs": [],
   "source": [
    "c.imag"
   ]
  },
  {
   "cell_type": "code",
   "execution_count": null,
   "id": "c72c085d-14a4-4436-86ec-f694f7656b5f",
   "metadata": {},
   "outputs": [],
   "source": [
    "c = 10 + 20j\n",
    "d = 30 + 40j"
   ]
  },
  {
   "cell_type": "code",
   "execution_count": null,
   "id": "e0454789-b73a-4e79-9a21-6209a7955a65",
   "metadata": {},
   "outputs": [],
   "source": [
    "e = c + d\n",
    "e"
   ]
  },
  {
   "cell_type": "code",
   "execution_count": null,
   "id": "1d92dab7-ba02-4ab9-886c-f241b011edc8",
   "metadata": {},
   "outputs": [],
   "source": [
    "s = 'nareshit'"
   ]
  },
  {
   "cell_type": "code",
   "execution_count": null,
   "id": "1fb802dc-0013-454d-92d3-4709d222b7ba",
   "metadata": {},
   "outputs": [],
   "source": [
    "s"
   ]
  },
  {
   "cell_type": "code",
   "execution_count": null,
   "id": "2f697c6b-c70d-4b05-8f56-8f8aca4ffa8e",
   "metadata": {},
   "outputs": [],
   "source": [
    "s[0]"
   ]
  },
  {
   "cell_type": "code",
   "execution_count": null,
   "id": "af60db67-8ba6-411c-92a9-595e633209df",
   "metadata": {},
   "outputs": [],
   "source": [
    "s[1]"
   ]
  },
  {
   "cell_type": "code",
   "execution_count": null,
   "id": "a0d2c158-ee28-45c4-85d5-940e999bedc5",
   "metadata": {},
   "outputs": [],
   "source": [
    "s"
   ]
  },
  {
   "cell_type": "code",
   "execution_count": null,
   "id": "8fb6093c-4982-4298-8051-02e2b7bfdc12",
   "metadata": {},
   "outputs": [],
   "source": [
    "s1 = 'technology'\n",
    "s2 = 'under guidance of prakash senapati'"
   ]
  },
  {
   "cell_type": "code",
   "execution_count": null,
   "id": "f1705f6a-f8ce-4799-a96f-14ad41d20323",
   "metadata": {},
   "outputs": [],
   "source": [
    "s\n",
    "s1\n",
    "s2"
   ]
  },
  {
   "cell_type": "code",
   "execution_count": null,
   "id": "3c79de6c-a07f-45d2-95c2-efea40f1ed48",
   "metadata": {},
   "outputs": [],
   "source": [
    "print(s)\n",
    "print(s1)\n",
    "print(s2)"
   ]
  },
  {
   "cell_type": "code",
   "execution_count": null,
   "id": "61762e1d-6e9e-4512-b78b-d3cd7946029a",
   "metadata": {},
   "outputs": [],
   "source": [
    "s + s1 + s2"
   ]
  },
  {
   "cell_type": "code",
   "execution_count": null,
   "id": "f68a6866-7477-46c3-ac9a-7850dfae4b05",
   "metadata": {},
   "outputs": [],
   "source": [
    "s +  s1"
   ]
  },
  {
   "cell_type": "code",
   "execution_count": null,
   "id": "bf12a973-1f3f-4464-862f-0c27a3091e28",
   "metadata": {},
   "outputs": [],
   "source": [
    "s * s1"
   ]
  },
  {
   "cell_type": "code",
   "execution_count": null,
   "id": "642de6fd-ec70-4dc2-891d-aad6a4e9b1e9",
   "metadata": {},
   "outputs": [],
   "source": [
    " print(10)"
   ]
  },
  {
   "cell_type": "code",
   "execution_count": null,
   "id": "4681651c-05d6-4d9b-b2a0-ab4f9c298f78",
   "metadata": {},
   "outputs": [],
   "source": [
    "print(10, 2.4,'nit',True,1+2j,)"
   ]
  },
  {
   "cell_type": "code",
   "execution_count": null,
   "id": "019843e4-d195-4bde-9c67-ef57a2782fc3",
   "metadata": {},
   "outputs": [],
   "source": [
    "num1=20 \n",
    "num2=30\n",
    "add=num1+num2\n",
    "add"
   ]
  },
  {
   "cell_type": "code",
   "execution_count": null,
   "id": "4e108693-8fad-4226-853b-2224ec7715f4",
   "metadata": {},
   "outputs": [],
   "source": [
    "print('The addition of',num1,'and',num2,'is=',add)"
   ]
  },
  {
   "cell_type": "markdown",
   "id": "dd429ece-121f-4e7a-96aa-89d34fcf3ed8",
   "metadata": {},
   "source": [
    "# print Format method"
   ]
  },
  {
   "cell_type": "code",
   "execution_count": null,
   "id": "4b3aa5cf-f03f-4e1e-bfe7-7992acd08df2",
   "metadata": {},
   "outputs": [],
   "source": [
    "num1=20 \n",
    "num2=30\n",
    "add=num1+num2\n",
    "\n",
    "print('The addition of {} and {} is= {}'.format(num1,num2,add))"
   ]
  },
  {
   "cell_type": "code",
   "execution_count": null,
   "id": "8037eaac-8a08-4d5d-8c8c-41265a16f8bd",
   "metadata": {},
   "outputs": [],
   "source": [
    "num1=20 \n",
    "num2=30\n",
    "num3=40\n",
    "add=num1+num2+num3\n",
    "\n",
    "print('The addition of {} and {} and {} is= {}'.format(num1,num2,num3,add))"
   ]
  },
  {
   "cell_type": "code",
   "execution_count": null,
   "id": "7d831058-16b5-4e03-ac47-b65d355f63b6",
   "metadata": {},
   "outputs": [],
   "source": [
    "print('hello') # 1st statement\n",
    "print('good moorning') # 2nd statement)\n",
    "\n",
    "# i want print like:- hellow good morning"
   ]
  },
  {
   "cell_type": "code",
   "execution_count": null,
   "id": "5863ce28-6455-4fed-a1ac-3d7947680701",
   "metadata": {},
   "outputs": [],
   "source": [
    "print('hello', end=' ') # 1st statement\n",
    "print('good night') # 2nd statement"
   ]
  },
  {
   "cell_type": "code",
   "execution_count": null,
   "id": "04af6133-0481-412d-8aec-219036d84516",
   "metadata": {},
   "outputs": [],
   "source": [
    "print('hello','hai','how are you',sep='--->')"
   ]
  },
  {
   "cell_type": "code",
   "execution_count": null,
   "id": "8fcc298b-bdcf-48c9-898e-f8e0458a4302",
   "metadata": {},
   "outputs": [],
   "source": [
    "print('hello','hai','how are you',sep='***&&&&--->')"
   ]
  },
  {
   "cell_type": "markdown",
   "id": "b7b4f313-0622-40bf-af94-4db0885f28c5",
   "metadata": {},
   "source": [
    "# 31st python type casting"
   ]
  },
  {
   "cell_type": "code",
   "execution_count": null,
   "id": "d9670dc5-79d1-48dc-9647-fef7ada0b5f7",
   "metadata": {},
   "outputs": [],
   "source": [
    "int(2.3) "
   ]
  },
  {
   "cell_type": "code",
   "execution_count": null,
   "id": "642d2c5c-3d24-4e32-9d04-ad4ef39e35d2",
   "metadata": {},
   "outputs": [],
   "source": [
    "int(2.3, 3.4)"
   ]
  },
  {
   "cell_type": "code",
   "execution_count": null,
   "id": "ba5e722f-60ab-4cf4-bcb1-802addd8f94c",
   "metadata": {},
   "outputs": [],
   "source": [
    "int(True)"
   ]
  },
  {
   "cell_type": "code",
   "execution_count": null,
   "id": "e12812ac-ec08-486b-8c1c-5f2ec249af34",
   "metadata": {},
   "outputs": [],
   "source": [
    "int(False)"
   ]
  },
  {
   "cell_type": "code",
   "execution_count": null,
   "id": "d5a9ff16-8424-4479-a7ef-2ad4724fb52e",
   "metadata": {},
   "outputs": [],
   "source": [
    "int(1+2j) "
   ]
  },
  {
   "cell_type": "code",
   "execution_count": null,
   "id": "1f9b2e90-7980-4b1b-8583-3cb274403720",
   "metadata": {},
   "outputs": [],
   "source": [
    "int('10')"
   ]
  },
  {
   "cell_type": "code",
   "execution_count": null,
   "id": "0f1df0aa-f4ec-4fb0-a5ce-aea223a4ee03",
   "metadata": {},
   "outputs": [],
   "source": [
    "int('ten')"
   ]
  },
  {
   "cell_type": "code",
   "execution_count": null,
   "id": "bb39f915-0b08-4a61-afcf-eca95e343c65",
   "metadata": {},
   "outputs": [],
   "source": [
    "float(10)"
   ]
  },
  {
   "cell_type": "code",
   "execution_count": null,
   "id": "0cc1cb15-68d2-41f4-a27e-6f431aa5e00d",
   "metadata": {},
   "outputs": [],
   "source": [
    "float(10, 20)"
   ]
  },
  {
   "cell_type": "code",
   "execution_count": null,
   "id": "f9dbe759-17cd-4286-ba9c-b86213171ab1",
   "metadata": {},
   "outputs": [],
   "source": [
    "float(True)"
   ]
  },
  {
   "cell_type": "code",
   "execution_count": null,
   "id": "4147f69f-27a8-42fc-b760-568d97ff87f5",
   "metadata": {},
   "outputs": [],
   "source": [
    "float(False)"
   ]
  },
  {
   "cell_type": "code",
   "execution_count": null,
   "id": "c114ddf0-0a36-48a8-9613-0eebdb7a1e32",
   "metadata": {},
   "outputs": [],
   "source": [
    "float(1+2j)"
   ]
  },
  {
   "cell_type": "code",
   "execution_count": null,
   "id": "c78d28e3-f9cb-41f0-9387-60ecac88cc9d",
   "metadata": {},
   "outputs": [],
   "source": [
    "float('10')"
   ]
  },
  {
   "cell_type": "code",
   "execution_count": null,
   "id": "b2cd13a2-d57b-468b-85e2-45fe0811bd1e",
   "metadata": {},
   "outputs": [],
   "source": [
    "float('ten')"
   ]
  },
  {
   "cell_type": "code",
   "execution_count": null,
   "id": "3c3bf53a-3974-4958-a513-7d743f3a1dad",
   "metadata": {},
   "outputs": [],
   "source": [
    "complex(10)"
   ]
  },
  {
   "cell_type": "code",
   "execution_count": null,
   "id": "21b6ddad-2331-41e5-92c4-1e56923af436",
   "metadata": {},
   "outputs": [],
   "source": [
    "complex(10,20)"
   ]
  },
  {
   "cell_type": "code",
   "execution_count": null,
   "id": "5de38198-ca9d-4bc7-a5e1-5b35521949ad",
   "metadata": {},
   "outputs": [],
   "source": [
    "complex(10,20,30)"
   ]
  },
  {
   "cell_type": "code",
   "execution_count": null,
   "id": "deaafb96-e71e-4b85-a4ed-b03d2a459a4a",
   "metadata": {},
   "outputs": [],
   "source": [
    "complex(2.3) "
   ]
  },
  {
   "cell_type": "code",
   "execution_count": null,
   "id": "fdd76094-3477-4bf3-8228-815a6378878e",
   "metadata": {},
   "outputs": [],
   "source": [
    "complex(2.3, 3.4)"
   ]
  },
  {
   "cell_type": "code",
   "execution_count": null,
   "id": "79f2bf81-0cc2-4861-b4f6-0b3779d8e68e",
   "metadata": {},
   "outputs": [],
   "source": [
    "complex(10, '10')"
   ]
  },
  {
   "cell_type": "code",
   "execution_count": null,
   "id": "837b3a95-f0c7-4a5f-9a11-07a94e4c6d11",
   "metadata": {},
   "outputs": [],
   "source": [
    "complex('10', 10)"
   ]
  },
  {
   "cell_type": "code",
   "execution_count": null,
   "id": "9101674b-5732-4733-bf39-3dc4bb2b8815",
   "metadata": {},
   "outputs": [],
   "source": [
    "complex('10')"
   ]
  },
  {
   "cell_type": "code",
   "execution_count": null,
   "id": "97ec30d7-b54e-4852-9c14-b0deb928eb33",
   "metadata": {},
   "outputs": [],
   "source": [
    "complex(10,int('10')) "
   ]
  },
  {
   "cell_type": "code",
   "execution_count": null,
   "id": "3653b8dc-271f-49af-af77-ba109815a92b",
   "metadata": {},
   "outputs": [],
   "source": [
    "complex(True, False)"
   ]
  },
  {
   "cell_type": "code",
   "execution_count": null,
   "id": "499fd535-25a0-43e1-809b-c9a7e1ac392d",
   "metadata": {},
   "outputs": [],
   "source": [
    "complex(False,False)"
   ]
  },
  {
   "cell_type": "code",
   "execution_count": null,
   "id": "582426c7-9e1c-4f06-b873-1a7bcea16056",
   "metadata": {},
   "outputs": [],
   "source": [
    "bool(1)"
   ]
  },
  {
   "cell_type": "code",
   "execution_count": null,
   "id": "80b10250-6033-40b0-95de-668f3bc0c76e",
   "metadata": {},
   "outputs": [],
   "source": [
    "bool(13)"
   ]
  },
  {
   "cell_type": "code",
   "execution_count": null,
   "id": "3c2e4a39-ccb0-41a6-a560-9debd9d3d56d",
   "metadata": {},
   "outputs": [],
   "source": [
    "bool()"
   ]
  },
  {
   "cell_type": "code",
   "execution_count": null,
   "id": "60d701cd-1f19-416a-bbb4-5be67f76893f",
   "metadata": {},
   "outputs": [],
   "source": [
    "bool( )"
   ]
  },
  {
   "cell_type": "code",
   "execution_count": null,
   "id": "3c166c59-b917-401f-93ee-bad3e9f8362f",
   "metadata": {},
   "outputs": [],
   "source": [
    "bool(1.2)"
   ]
  },
  {
   "cell_type": "code",
   "execution_count": null,
   "id": "5bfd3885-15a1-452f-9bce-36598cc707f4",
   "metadata": {},
   "outputs": [],
   "source": [
    "bool('10')"
   ]
  },
  {
   "cell_type": "code",
   "execution_count": null,
   "id": "3002975a-b6fc-4794-8373-22aa2009760e",
   "metadata": {},
   "outputs": [],
   "source": [
    "bool('ten')"
   ]
  },
  {
   "cell_type": "code",
   "execution_count": null,
   "id": "fc0bc016-b50c-4c7e-ae75-1ca4d51c5ff0",
   "metadata": {},
   "outputs": [],
   "source": [
    "bool(1+2j)"
   ]
  },
  {
   "cell_type": "code",
   "execution_count": null,
   "id": "6261d427-642a-4bd0-97f4-201c67afbbeb",
   "metadata": {},
   "outputs": [],
   "source": [
    "bool(0+0j)"
   ]
  },
  {
   "cell_type": "code",
   "execution_count": null,
   "id": "1056aaf0-5482-4156-b96e-e442fef02d5e",
   "metadata": {},
   "outputs": [],
   "source": [
    "print(str(1))\n",
    "print(str(1.2))\n",
    "print(str(True))\n",
    "print(str(1+2j))"
   ]
  },
  {
   "cell_type": "markdown",
   "id": "cc5cd423-6299-474c-81a0-4b1c5ddf8eda",
   "metadata": {},
   "source": [
    "# string indexing \n",
    "        - forward indexing \n",
    "        - backward indexing \n",
    "        - step indexinbg "
   ]
  },
  {
   "cell_type": "code",
   "execution_count": null,
   "id": "9ae11c6f-f391-44b9-abd3-30b783bed66d",
   "metadata": {},
   "outputs": [],
   "source": [
    "s = 'hello'\n",
    "s"
   ]
  },
  {
   "cell_type": "code",
   "execution_count": null,
   "id": "f5e02bee-a6ec-46b9-9c45-54bc5fce4f29",
   "metadata": {},
   "outputs": [],
   "source": [
    "s[0]"
   ]
  },
  {
   "cell_type": "code",
   "execution_count": null,
   "id": "c143ba88-393f-4057-9e52-ffe2c632b21e",
   "metadata": {},
   "outputs": [],
   "source": [
    "s[-1]"
   ]
  },
  {
   "cell_type": "code",
   "execution_count": null,
   "id": "3289b8f5-cfc9-4bfe-8729-c93c09eeba16",
   "metadata": {},
   "outputs": [],
   "source": [
    "s"
   ]
  },
  {
   "cell_type": "code",
   "execution_count": null,
   "id": "5197b230-14fe-43b5-9ec2-cb655995527c",
   "metadata": {},
   "outputs": [],
   "source": [
    "s[10]"
   ]
  },
  {
   "cell_type": "code",
   "execution_count": null,
   "id": "12c27786-1b01-4e29-af4a-2a2e2eb198a4",
   "metadata": {},
   "outputs": [],
   "source": [
    "s"
   ]
  },
  {
   "cell_type": "code",
   "execution_count": null,
   "id": "7dced278-3ae1-4438-99c5-169f99d5eb61",
   "metadata": {},
   "outputs": [],
   "source": [
    "s[:]"
   ]
  },
  {
   "cell_type": "code",
   "execution_count": null,
   "id": "41340a05-e543-43a3-bfbf-cdcb796fd9d2",
   "metadata": {},
   "outputs": [],
   "source": [
    "s[0:1]"
   ]
  },
  {
   "cell_type": "code",
   "execution_count": null,
   "id": "9b0a29dc-c664-44a1-9302-56bcf2b52289",
   "metadata": {},
   "outputs": [],
   "source": [
    "s[0:2]"
   ]
  },
  {
   "cell_type": "code",
   "execution_count": null,
   "id": "b5980ebe-8dff-45c0-b9e4-d2b58350af0f",
   "metadata": {},
   "outputs": [],
   "source": [
    "s"
   ]
  },
  {
   "cell_type": "code",
   "execution_count": null,
   "id": "26d77573-f533-459d-bbb2-5b470787339d",
   "metadata": {},
   "outputs": [],
   "source": [
    "print(s[0])\n",
    "print(s[1])\n",
    "print(s[2])\n",
    "print(s[3])\n",
    "print(s[4])"
   ]
  },
  {
   "cell_type": "code",
   "execution_count": null,
   "id": "72be55c4-0174-4da1-a6c0-5ecd63abf9e6",
   "metadata": {},
   "outputs": [],
   "source": [
    "s"
   ]
  },
  {
   "cell_type": "code",
   "execution_count": null,
   "id": "885a62d7-340c-4179-97ce-ff004105961f",
   "metadata": {},
   "outputs": [],
   "source": [
    "for i in s:\n",
    "    print(i)"
   ]
  },
  {
   "cell_type": "code",
   "execution_count": null,
   "id": "c081bd2f-22f9-4e72-bab2-90a72f27521e",
   "metadata": {},
   "outputs": [],
   "source": [
    "s"
   ]
  },
  {
   "cell_type": "code",
   "execution_count": null,
   "id": "9a92d3fb-8ea4-463c-a464-5ad1c2c59e23",
   "metadata": {},
   "outputs": [],
   "source": [
    "s1 = 'nareshit'"
   ]
  },
  {
   "cell_type": "code",
   "execution_count": null,
   "id": "183ccfea-ca0b-4973-bb5f-d6a7ecb8cc55",
   "metadata": {},
   "outputs": [],
   "source": [
    "s + s1"
   ]
  },
  {
   "cell_type": "code",
   "execution_count": null,
   "id": "3f59975f-d718-4f75-97b9-f8621f04adbb",
   "metadata": {},
   "outputs": [],
   "source": [
    "s3 = s + s1\n",
    "s3"
   ]
  },
  {
   "cell_type": "code",
   "execution_count": null,
   "id": "835dbd9f-8c79-44a7-a945-42d817eb33c7",
   "metadata": {},
   "outputs": [],
   "source": [
    "s"
   ]
  },
  {
   "cell_type": "code",
   "execution_count": null,
   "id": "9b44fbec-daad-4c55-9cfb-bd58671fd9a8",
   "metadata": {},
   "outputs": [],
   "source": [
    "s[2:5]"
   ]
  },
  {
   "cell_type": "code",
   "execution_count": null,
   "id": "5867138a-0e53-4122-a046-bafe2e97b92f",
   "metadata": {},
   "outputs": [],
   "source": [
    "s"
   ]
  },
  {
   "cell_type": "code",
   "execution_count": null,
   "id": "76c9c224-2db7-421b-92a5-8d8b9c225a36",
   "metadata": {},
   "outputs": [],
   "source": [
    "s2 = ['r','g','y']\n",
    "s2"
   ]
  },
  {
   "cell_type": "code",
   "execution_count": null,
   "id": "d7f92ebc-06fa-43fb-8661-043c64ab031c",
   "metadata": {},
   "outputs": [],
   "source": [
    "s2[1:4]"
   ]
  },
  {
   "cell_type": "markdown",
   "id": "61581276-158b-4532-8631-7e27aa5dc354",
   "metadata": {},
   "source": [
    "# type casting we are completed "
   ]
  },
  {
   "cell_type": "markdown",
   "id": "376e207f-b269-405a-82f6-4d3b68403738",
   "metadata": {},
   "source": [
    "# 1st -- PYTHON DATASTRUCTURE"
   ]
  },
  {
   "cell_type": "code",
   "execution_count": 10,
   "id": "ca21d76b-b5b9-4d38-9914-d79ba06787fe",
   "metadata": {},
   "outputs": [
    {
     "data": {
      "text/plain": [
       "[]"
      ]
     },
     "execution_count": 10,
     "metadata": {},
     "output_type": "execute_result"
    }
   ],
   "source": [
    "l = [] \n",
    "l"
   ]
  },
  {
   "cell_type": "code",
   "execution_count": 11,
   "id": "fbfb1c80-df7c-421d-ab1a-7e7d91b72d5f",
   "metadata": {},
   "outputs": [
    {
     "data": {
      "text/plain": [
       "list"
      ]
     },
     "execution_count": 11,
     "metadata": {},
     "output_type": "execute_result"
    }
   ],
   "source": [
    "type(l)"
   ]
  },
  {
   "cell_type": "code",
   "execution_count": 12,
   "id": "9201aaa3-f417-490d-b569-ecce865411bc",
   "metadata": {},
   "outputs": [
    {
     "data": {
      "text/plain": [
       "0"
      ]
     },
     "execution_count": 12,
     "metadata": {},
     "output_type": "execute_result"
    }
   ],
   "source": [
    "len(l)"
   ]
  },
  {
   "cell_type": "code",
   "execution_count": 13,
   "id": "bc9dc02a-5186-4a03-b380-7517392dcb1a",
   "metadata": {},
   "outputs": [
    {
     "data": {
      "text/plain": [
       "1524473820544"
      ]
     },
     "execution_count": 13,
     "metadata": {},
     "output_type": "execute_result"
    }
   ],
   "source": [
    "id(l)"
   ]
  },
  {
   "cell_type": "code",
   "execution_count": 14,
   "id": "877ad671-b13a-4255-bf92-c93f6b24e5fb",
   "metadata": {},
   "outputs": [
    {
     "ename": "TypeError",
     "evalue": "list.append() takes exactly one argument (0 given)",
     "output_type": "error",
     "traceback": [
      "\u001b[1;31m---------------------------------------------------------------------------\u001b[0m",
      "\u001b[1;31mTypeError\u001b[0m                                 Traceback (most recent call last)",
      "Cell \u001b[1;32mIn[14], line 1\u001b[0m\n\u001b[1;32m----> 1\u001b[0m l\u001b[38;5;241m.\u001b[39mappend()\n",
      "\u001b[1;31mTypeError\u001b[0m: list.append() takes exactly one argument (0 given)"
     ]
    }
   ],
   "source": [
    "l.append()"
   ]
  },
  {
   "cell_type": "code",
   "execution_count": null,
   "id": "b53a4a3b-4990-4ff5-930b-c399de834ca1",
   "metadata": {},
   "outputs": [],
   "source": [
    "l.append(10)"
   ]
  },
  {
   "cell_type": "code",
   "execution_count": null,
   "id": "d8e9c24b-089b-4aa0-ba71-a860f0afeb3a",
   "metadata": {},
   "outputs": [],
   "source": [
    "l"
   ]
  },
  {
   "cell_type": "code",
   "execution_count": null,
   "id": "3dbcab4d-002e-45bf-a8c5-8593bb79615c",
   "metadata": {},
   "outputs": [],
   "source": [
    "len(l)"
   ]
  },
  {
   "cell_type": "code",
   "execution_count": null,
   "id": "8cf510fc-8ccc-41aa-9019-2c5daa4c891f",
   "metadata": {},
   "outputs": [],
   "source": [
    "l.append(20)\n",
    "l.append(30)\n",
    "l.append(40)\n",
    "l.append(50)"
   ]
  },
  {
   "cell_type": "code",
   "execution_count": null,
   "id": "f2902bcf-2d0f-465d-b409-fb657e769e17",
   "metadata": {},
   "outputs": [],
   "source": [
    "l"
   ]
  },
  {
   "cell_type": "code",
   "execution_count": null,
   "id": "95e691aa-7a50-4290-b31a-10a8740daa2f",
   "metadata": {},
   "outputs": [],
   "source": [
    "len(l)"
   ]
  },
  {
   "cell_type": "code",
   "execution_count": null,
   "id": "f0160160-19e5-4b44-b1c6-c62cff0e2c3e",
   "metadata": {},
   "outputs": [],
   "source": [
    "l"
   ]
  },
  {
   "cell_type": "code",
   "execution_count": null,
   "id": "2f87bda7-9198-4176-804f-75f3c7c32b3d",
   "metadata": {},
   "outputs": [],
   "source": [
    "l1 = l.copy() \n",
    "l1"
   ]
  },
  {
   "cell_type": "code",
   "execution_count": null,
   "id": "3ae7641b-d166-4c87-89ea-dfbfc3beee3f",
   "metadata": {},
   "outputs": [],
   "source": [
    "l == l1"
   ]
  },
  {
   "cell_type": "code",
   "execution_count": null,
   "id": "731e1d02-9a60-4709-8f86-c6485efff306",
   "metadata": {},
   "outputs": [],
   "source": [
    "l != l1"
   ]
  },
  {
   "cell_type": "code",
   "execution_count": null,
   "id": "74de6620-2baf-49ba-a9c2-19125a3f92aa",
   "metadata": {},
   "outputs": [],
   "source": [
    "l1"
   ]
  },
  {
   "cell_type": "code",
   "execution_count": 15,
   "id": "51e06701-e59b-44cd-a536-90b3867ba880",
   "metadata": {},
   "outputs": [
    {
     "ename": "NameError",
     "evalue": "name 'l1' is not defined",
     "output_type": "error",
     "traceback": [
      "\u001b[1;31m---------------------------------------------------------------------------\u001b[0m",
      "\u001b[1;31mNameError\u001b[0m                                 Traceback (most recent call last)",
      "Cell \u001b[1;32mIn[15], line 1\u001b[0m\n\u001b[1;32m----> 1\u001b[0m l1\u001b[38;5;241m.\u001b[39mappend(\u001b[38;5;241m100\u001b[39m)\n",
      "\u001b[1;31mNameError\u001b[0m: name 'l1' is not defined"
     ]
    }
   ],
   "source": [
    "l1.append(100)"
   ]
  },
  {
   "cell_type": "code",
   "execution_count": 16,
   "id": "543bbd7b-2b8e-4d64-aded-6b9fda14a5ab",
   "metadata": {},
   "outputs": [
    {
     "ename": "NameError",
     "evalue": "name 'l1' is not defined",
     "output_type": "error",
     "traceback": [
      "\u001b[1;31m---------------------------------------------------------------------------\u001b[0m",
      "\u001b[1;31mNameError\u001b[0m                                 Traceback (most recent call last)",
      "Cell \u001b[1;32mIn[16], line 1\u001b[0m\n\u001b[1;32m----> 1\u001b[0m l1\n",
      "\u001b[1;31mNameError\u001b[0m: name 'l1' is not defined"
     ]
    }
   ],
   "source": [
    "l1"
   ]
  },
  {
   "cell_type": "code",
   "execution_count": 17,
   "id": "7ea9199d-2f53-4b2e-90b1-756e47e754fd",
   "metadata": {},
   "outputs": [
    {
     "ename": "NameError",
     "evalue": "name 'l1' is not defined",
     "output_type": "error",
     "traceback": [
      "\u001b[1;31m---------------------------------------------------------------------------\u001b[0m",
      "\u001b[1;31mNameError\u001b[0m                                 Traceback (most recent call last)",
      "Cell \u001b[1;32mIn[17], line 1\u001b[0m\n\u001b[1;32m----> 1\u001b[0m l \u001b[38;5;241m==\u001b[39m l1\n",
      "\u001b[1;31mNameError\u001b[0m: name 'l1' is not defined"
     ]
    }
   ],
   "source": [
    "l == l1"
   ]
  },
  {
   "cell_type": "code",
   "execution_count": 18,
   "id": "42bc7867-a788-428e-9202-ae2de429bbe8",
   "metadata": {},
   "outputs": [
    {
     "ename": "NameError",
     "evalue": "name 'l1' is not defined",
     "output_type": "error",
     "traceback": [
      "\u001b[1;31m---------------------------------------------------------------------------\u001b[0m",
      "\u001b[1;31mNameError\u001b[0m                                 Traceback (most recent call last)",
      "Cell \u001b[1;32mIn[18], line 1\u001b[0m\n\u001b[1;32m----> 1\u001b[0m l \u001b[38;5;241m!=\u001b[39m l1\n",
      "\u001b[1;31mNameError\u001b[0m: name 'l1' is not defined"
     ]
    }
   ],
   "source": [
    "l != l1"
   ]
  },
  {
   "cell_type": "code",
   "execution_count": 19,
   "id": "14db3d93-eb9b-4c68-a0a4-56e8795ccadd",
   "metadata": {},
   "outputs": [
    {
     "name": "stdout",
     "output_type": "stream",
     "text": [
      "0\n"
     ]
    },
    {
     "ename": "NameError",
     "evalue": "name 'l1' is not defined",
     "output_type": "error",
     "traceback": [
      "\u001b[1;31m---------------------------------------------------------------------------\u001b[0m",
      "\u001b[1;31mNameError\u001b[0m                                 Traceback (most recent call last)",
      "Cell \u001b[1;32mIn[19], line 2\u001b[0m\n\u001b[0;32m      1\u001b[0m \u001b[38;5;28mprint\u001b[39m(\u001b[38;5;28mlen\u001b[39m(l))\n\u001b[1;32m----> 2\u001b[0m \u001b[38;5;28mprint\u001b[39m(\u001b[38;5;28mlen\u001b[39m(l1))\n",
      "\u001b[1;31mNameError\u001b[0m: name 'l1' is not defined"
     ]
    }
   ],
   "source": [
    "print(len(l))\n",
    "print(len(l1))"
   ]
  },
  {
   "cell_type": "code",
   "execution_count": 20,
   "id": "203a410e-0ef6-49de-bf40-6caa1c07b161",
   "metadata": {},
   "outputs": [
    {
     "name": "stdout",
     "output_type": "stream",
     "text": [
      "[]\n"
     ]
    },
    {
     "ename": "NameError",
     "evalue": "name 'l1' is not defined",
     "output_type": "error",
     "traceback": [
      "\u001b[1;31m---------------------------------------------------------------------------\u001b[0m",
      "\u001b[1;31mNameError\u001b[0m                                 Traceback (most recent call last)",
      "Cell \u001b[1;32mIn[20], line 2\u001b[0m\n\u001b[0;32m      1\u001b[0m \u001b[38;5;28mprint\u001b[39m(l)\n\u001b[1;32m----> 2\u001b[0m \u001b[38;5;28mprint\u001b[39m(l1)\n",
      "\u001b[1;31mNameError\u001b[0m: name 'l1' is not defined"
     ]
    }
   ],
   "source": [
    "print(l)\n",
    "print(l1)"
   ]
  },
  {
   "cell_type": "code",
   "execution_count": 21,
   "id": "06ecfcb1-2251-4259-ae68-7752e40bb2bf",
   "metadata": {},
   "outputs": [
    {
     "ename": "NameError",
     "evalue": "name 'l1' is not defined",
     "output_type": "error",
     "traceback": [
      "\u001b[1;31m---------------------------------------------------------------------------\u001b[0m",
      "\u001b[1;31mNameError\u001b[0m                                 Traceback (most recent call last)",
      "Cell \u001b[1;32mIn[21], line 1\u001b[0m\n\u001b[1;32m----> 1\u001b[0m \u001b[38;5;28mid\u001b[39m(l1)\n",
      "\u001b[1;31mNameError\u001b[0m: name 'l1' is not defined"
     ]
    }
   ],
   "source": [
    "id(l1)"
   ]
  },
  {
   "cell_type": "code",
   "execution_count": 22,
   "id": "f39dc785-f78a-4f13-9524-a1b4f512137f",
   "metadata": {},
   "outputs": [
    {
     "ename": "NameError",
     "evalue": "name 'l1' is not defined",
     "output_type": "error",
     "traceback": [
      "\u001b[1;31m---------------------------------------------------------------------------\u001b[0m",
      "\u001b[1;31mNameError\u001b[0m                                 Traceback (most recent call last)",
      "Cell \u001b[1;32mIn[22], line 1\u001b[0m\n\u001b[1;32m----> 1\u001b[0m l1\u001b[38;5;241m.\u001b[39mclear()\n",
      "\u001b[1;31mNameError\u001b[0m: name 'l1' is not defined"
     ]
    }
   ],
   "source": [
    "l1.clear()"
   ]
  },
  {
   "cell_type": "code",
   "execution_count": 23,
   "id": "5def0c48-9fa5-4891-85bd-518a88da1612",
   "metadata": {},
   "outputs": [
    {
     "ename": "NameError",
     "evalue": "name 'l1' is not defined",
     "output_type": "error",
     "traceback": [
      "\u001b[1;31m---------------------------------------------------------------------------\u001b[0m",
      "\u001b[1;31mNameError\u001b[0m                                 Traceback (most recent call last)",
      "Cell \u001b[1;32mIn[23], line 1\u001b[0m\n\u001b[1;32m----> 1\u001b[0m l1\n",
      "\u001b[1;31mNameError\u001b[0m: name 'l1' is not defined"
     ]
    }
   ],
   "source": [
    "l1"
   ]
  },
  {
   "cell_type": "code",
   "execution_count": 24,
   "id": "3d33d24d-684e-45d4-a553-590d517b72c9",
   "metadata": {},
   "outputs": [
    {
     "ename": "NameError",
     "evalue": "name 'l1' is not defined",
     "output_type": "error",
     "traceback": [
      "\u001b[1;31m---------------------------------------------------------------------------\u001b[0m",
      "\u001b[1;31mNameError\u001b[0m                                 Traceback (most recent call last)",
      "Cell \u001b[1;32mIn[24], line 1\u001b[0m\n\u001b[1;32m----> 1\u001b[0m \u001b[38;5;28mid\u001b[39m(l1)\n",
      "\u001b[1;31mNameError\u001b[0m: name 'l1' is not defined"
     ]
    }
   ],
   "source": [
    "id(l1)"
   ]
  },
  {
   "cell_type": "code",
   "execution_count": 25,
   "id": "eecf7c4e-65c7-4135-82b8-e1f31b269657",
   "metadata": {},
   "outputs": [
    {
     "data": {
      "text/plain": [
       "[]"
      ]
     },
     "execution_count": 25,
     "metadata": {},
     "output_type": "execute_result"
    }
   ],
   "source": [
    "l"
   ]
  },
  {
   "cell_type": "code",
   "execution_count": 26,
   "id": "a6d500b5-199a-4c0d-a111-b6ab8357b094",
   "metadata": {},
   "outputs": [],
   "source": [
    "l.append('nit')\n",
    "l.append(2.3)\n",
    "l.append(1+2j)\n",
    "l.append(True)\n",
    "l.append([1,2,3])"
   ]
  },
  {
   "cell_type": "code",
   "execution_count": 27,
   "id": "e4f01f74-393a-4867-a6a1-2de3f90a9ff2",
   "metadata": {},
   "outputs": [
    {
     "data": {
      "text/plain": [
       "['nit', 2.3, (1+2j), True, [1, 2, 3]]"
      ]
     },
     "execution_count": 27,
     "metadata": {},
     "output_type": "execute_result"
    }
   ],
   "source": [
    "l"
   ]
  },
  {
   "cell_type": "code",
   "execution_count": 28,
   "id": "2f933684-f7a7-46d0-821c-b932f70638d5",
   "metadata": {},
   "outputs": [
    {
     "data": {
      "text/plain": [
       "['nit', 2.3, (1+2j), True, [1, 2, 3], 10]"
      ]
     },
     "execution_count": 28,
     "metadata": {},
     "output_type": "execute_result"
    }
   ],
   "source": [
    "l.append(10)\n",
    "l"
   ]
  },
  {
   "cell_type": "code",
   "execution_count": 31,
   "id": "b7c95588-63e3-44ee-9067-27258da22863",
   "metadata": {},
   "outputs": [
    {
     "name": "stdout",
     "output_type": "stream",
     "text": [
      "['nit', 2.3, (1+2j), True, [1, 2, 3], 10]\n"
     ]
    }
   ],
   "source": [
    "print(l)"
   ]
  },
  {
   "cell_type": "code",
   "execution_count": 33,
   "id": "674ee237-2579-4466-9eed-dde29437b391",
   "metadata": {},
   "outputs": [
    {
     "data": {
      "text/plain": [
       "[]"
      ]
     },
     "execution_count": 33,
     "metadata": {},
     "output_type": "execute_result"
    }
   ],
   "source": [
    "l1=[] \n",
    "l1"
   ]
  },
  {
   "cell_type": "code",
   "execution_count": 34,
   "id": "56ea3678-1cb1-4faa-8eeb-1e82b20ac445",
   "metadata": {},
   "outputs": [
    {
     "data": {
      "text/plain": [
       "[10, 2.3, (1+2j), True, 'hello', [1, 2, 3]]"
      ]
     },
     "execution_count": 34,
     "metadata": {},
     "output_type": "execute_result"
    }
   ],
   "source": [
    "l1 = [10, 2.3, 1+2j, True, 'hello', [1,2,3]]\n",
    "l1"
   ]
  },
  {
   "cell_type": "code",
   "execution_count": 35,
   "id": "2dc6ef25-8551-4510-97a0-535ab7628e7d",
   "metadata": {},
   "outputs": [],
   "source": [
    "l1.append(10)"
   ]
  },
  {
   "cell_type": "code",
   "execution_count": 36,
   "id": "a643d18c-dc52-4fb5-a678-e87eda284858",
   "metadata": {},
   "outputs": [
    {
     "data": {
      "text/plain": [
       "[10, 2.3, (1+2j), True, 'hello', [1, 2, 3], 10]"
      ]
     },
     "execution_count": 36,
     "metadata": {},
     "output_type": "execute_result"
    }
   ],
   "source": [
    "l1"
   ]
  },
  {
   "cell_type": "code",
   "execution_count": 38,
   "id": "9474b5f6-9c30-4e09-99c8-ad4a558a2770",
   "metadata": {},
   "outputs": [
    {
     "data": {
      "text/plain": [
       "1"
      ]
     },
     "execution_count": 38,
     "metadata": {},
     "output_type": "execute_result"
    }
   ],
   "source": [
    "l1.count(2.3)"
   ]
  },
  {
   "cell_type": "code",
   "execution_count": 39,
   "id": "ef05dc99-b994-40a7-adcf-0ba955b6b572",
   "metadata": {},
   "outputs": [
    {
     "data": {
      "text/plain": [
       "[10, 2.3, (1+2j), True, 'hello', [1, 2, 3], 10]"
      ]
     },
     "execution_count": 39,
     "metadata": {},
     "output_type": "execute_result"
    }
   ],
   "source": [
    "l1"
   ]
  },
  {
   "cell_type": "code",
   "execution_count": 40,
   "id": "fa0dffc3-4508-48c3-a4b1-ff8176f73c81",
   "metadata": {},
   "outputs": [],
   "source": [
    "l1.remove(1+2j)"
   ]
  },
  {
   "cell_type": "code",
   "execution_count": 41,
   "id": "82b80136-44f8-4156-93f7-180c63260fb2",
   "metadata": {},
   "outputs": [
    {
     "data": {
      "text/plain": [
       "[10, 2.3, True, 'hello', [1, 2, 3], 10]"
      ]
     },
     "execution_count": 41,
     "metadata": {},
     "output_type": "execute_result"
    }
   ],
   "source": [
    "l1"
   ]
  },
  {
   "cell_type": "code",
   "execution_count": 42,
   "id": "7787e0d0-b33f-4da2-a2de-1a017b8250bc",
   "metadata": {},
   "outputs": [
    {
     "data": {
      "text/plain": [
       "[10, 2.3, True, 'hello', [1, 2, 3], 10]"
      ]
     },
     "execution_count": 42,
     "metadata": {},
     "output_type": "execute_result"
    }
   ],
   "source": [
    "l1"
   ]
  },
  {
   "cell_type": "code",
   "execution_count": 43,
   "id": "5cd6cacd-5d0a-4d86-8d82-19742dfeedc2",
   "metadata": {},
   "outputs": [
    {
     "data": {
      "text/plain": [
       "10"
      ]
     },
     "execution_count": 43,
     "metadata": {},
     "output_type": "execute_result"
    }
   ],
   "source": [
    "l1.pop()"
   ]
  },
  {
   "cell_type": "code",
   "execution_count": 44,
   "id": "766d46c0-209a-4da8-bbcb-8ce484d3ed65",
   "metadata": {},
   "outputs": [
    {
     "data": {
      "text/plain": [
       "[10, 2.3, True, 'hello', [1, 2, 3]]"
      ]
     },
     "execution_count": 44,
     "metadata": {},
     "output_type": "execute_result"
    }
   ],
   "source": [
    "l1"
   ]
  },
  {
   "cell_type": "code",
   "execution_count": 45,
   "id": "879875e0-a738-43e9-836a-05e3594c2a67",
   "metadata": {},
   "outputs": [
    {
     "data": {
      "text/plain": [
       "[1, 2, 3]"
      ]
     },
     "execution_count": 45,
     "metadata": {},
     "output_type": "execute_result"
    }
   ],
   "source": [
    "l1.pop()"
   ]
  },
  {
   "cell_type": "code",
   "execution_count": 46,
   "id": "c525221a-2ff5-4cb0-86ea-2c39216b0859",
   "metadata": {},
   "outputs": [
    {
     "data": {
      "text/plain": [
       "[10, 2.3, True, 'hello']"
      ]
     },
     "execution_count": 46,
     "metadata": {},
     "output_type": "execute_result"
    }
   ],
   "source": [
    "l1"
   ]
  },
  {
   "cell_type": "code",
   "execution_count": 47,
   "id": "f780289f-66ac-41fa-8b69-d71c1a3196e6",
   "metadata": {},
   "outputs": [],
   "source": [
    "l1.remove(True)"
   ]
  },
  {
   "cell_type": "code",
   "execution_count": 48,
   "id": "bda4c17c-c976-4623-a0da-8993ff8e4262",
   "metadata": {},
   "outputs": [
    {
     "data": {
      "text/plain": [
       "[10, 2.3, 'hello']"
      ]
     },
     "execution_count": 48,
     "metadata": {},
     "output_type": "execute_result"
    }
   ],
   "source": [
    "l1"
   ]
  },
  {
   "cell_type": "code",
   "execution_count": 49,
   "id": "ed3be14b-6383-47e8-b3df-27bf1a40931b",
   "metadata": {},
   "outputs": [
    {
     "data": {
      "text/plain": [
       "['nit', 2.3, (1+2j), True, [1, 2, 3], 10]"
      ]
     },
     "execution_count": 49,
     "metadata": {},
     "output_type": "execute_result"
    }
   ],
   "source": [
    "l"
   ]
  },
  {
   "cell_type": "code",
   "execution_count": 52,
   "id": "58ff93fa-2f4a-4ca6-957c-cce89270da35",
   "metadata": {},
   "outputs": [
    {
     "data": {
      "text/plain": [
       "(1+2j)"
      ]
     },
     "execution_count": 52,
     "metadata": {},
     "output_type": "execute_result"
    }
   ],
   "source": [
    "l.pop(2)"
   ]
  },
  {
   "cell_type": "code",
   "execution_count": 53,
   "id": "f80d9936-ef8a-4286-a496-f242c75bfb6b",
   "metadata": {},
   "outputs": [
    {
     "data": {
      "text/plain": [
       "['nit', 2.3, True, [1, 2, 3], 10]"
      ]
     },
     "execution_count": 53,
     "metadata": {},
     "output_type": "execute_result"
    }
   ],
   "source": [
    "l"
   ]
  },
  {
   "cell_type": "code",
   "execution_count": 54,
   "id": "5b301f17-9158-4b54-996d-d8898e412851",
   "metadata": {},
   "outputs": [
    {
     "data": {
      "text/plain": [
       "['nit', 2.3, True, [1, 2, 3], 10]"
      ]
     },
     "execution_count": 54,
     "metadata": {},
     "output_type": "execute_result"
    }
   ],
   "source": [
    "l"
   ]
  },
  {
   "cell_type": "code",
   "execution_count": 55,
   "id": "16cf210d-a5a6-4904-8ec7-fac110f8393e",
   "metadata": {},
   "outputs": [
    {
     "data": {
      "text/plain": [
       "[10, 2.3]"
      ]
     },
     "execution_count": 55,
     "metadata": {},
     "output_type": "execute_result"
    }
   ],
   "source": [
    "l1"
   ]
  },
  {
   "cell_type": "code",
   "execution_count": 56,
   "id": "cf8bc824-8ef9-4856-a5f3-17c23f1db4ca",
   "metadata": {},
   "outputs": [
    {
     "data": {
      "text/plain": [
       "['nit', 2.3, True, [1, 2, 3], 10]"
      ]
     },
     "execution_count": 56,
     "metadata": {},
     "output_type": "execute_result"
    }
   ],
   "source": [
    "l"
   ]
  },
  {
   "cell_type": "code",
   "execution_count": 62,
   "id": "fcc54f4d-03a2-43aa-a827-9cd3bc06e70a",
   "metadata": {},
   "outputs": [
    {
     "data": {
      "text/plain": [
       "1"
      ]
     },
     "execution_count": 62,
     "metadata": {},
     "output_type": "execute_result"
    }
   ],
   "source": [
    "l.index(2.3)"
   ]
  },
  {
   "cell_type": "code",
   "execution_count": 63,
   "id": "1b20dec8-ea8f-4463-a85e-d03fddf4d0cc",
   "metadata": {},
   "outputs": [
    {
     "data": {
      "text/plain": [
       "['nit', 2.3, True, [1, 2, 3], 10]"
      ]
     },
     "execution_count": 63,
     "metadata": {},
     "output_type": "execute_result"
    }
   ],
   "source": [
    "l"
   ]
  },
  {
   "cell_type": "code",
   "execution_count": 64,
   "id": "77751773-4019-4fe2-8995-404166d7bb8b",
   "metadata": {},
   "outputs": [
    {
     "data": {
      "text/plain": [
       "['nit', 2.3, True, [1, 2, 3], 10, 4]"
      ]
     },
     "execution_count": 64,
     "metadata": {},
     "output_type": "execute_result"
    }
   ],
   "source": [
    "l.insert(5,4)\n",
    "l"
   ]
  },
  {
   "cell_type": "code",
   "execution_count": 65,
   "id": "2fd946c7-0343-4473-9876-8ca9917ad2aa",
   "metadata": {},
   "outputs": [
    {
     "data": {
      "text/plain": [
       "['nit', 2.3, True, [1, 2, 3], 10, 4]"
      ]
     },
     "execution_count": 65,
     "metadata": {},
     "output_type": "execute_result"
    }
   ],
   "source": [
    "l"
   ]
  },
  {
   "cell_type": "code",
   "execution_count": 66,
   "id": "e6b54572-05d1-455d-85f9-f82ff2e9a767",
   "metadata": {},
   "outputs": [],
   "source": [
    "l.insert(4, 5)"
   ]
  },
  {
   "cell_type": "code",
   "execution_count": 67,
   "id": "6ecd020e-183b-4eb8-b283-7ca7cff2b0f9",
   "metadata": {},
   "outputs": [
    {
     "data": {
      "text/plain": [
       "['nit', 2.3, True, [1, 2, 3], 5, 10, 4]"
      ]
     },
     "execution_count": 67,
     "metadata": {},
     "output_type": "execute_result"
    }
   ],
   "source": [
    "l"
   ]
  },
  {
   "cell_type": "code",
   "execution_count": 68,
   "id": "2765527e-c112-4b12-9703-10aa5f856818",
   "metadata": {},
   "outputs": [
    {
     "data": {
      "text/plain": [
       "['nit', 2.3, True, [1, 2, 3], 5, 10, 4]"
      ]
     },
     "execution_count": 68,
     "metadata": {},
     "output_type": "execute_result"
    }
   ],
   "source": [
    "l"
   ]
  },
  {
   "cell_type": "code",
   "execution_count": 69,
   "id": "bb90b2e2-9a2c-4bfd-94b8-8faf70bc635a",
   "metadata": {},
   "outputs": [],
   "source": [
    "l.insert(6, 6)"
   ]
  },
  {
   "cell_type": "code",
   "execution_count": 70,
   "id": "f566ad96-7a71-4bcd-b44e-12b7d867a893",
   "metadata": {},
   "outputs": [
    {
     "data": {
      "text/plain": [
       "['nit', 2.3, True, [1, 2, 3], 5, 10, 6, 4]"
      ]
     },
     "execution_count": 70,
     "metadata": {},
     "output_type": "execute_result"
    }
   ],
   "source": [
    "l"
   ]
  },
  {
   "cell_type": "code",
   "execution_count": 71,
   "id": "87a4a5b4-2076-43e4-85ab-c8957af5b1ea",
   "metadata": {},
   "outputs": [
    {
     "name": "stdout",
     "output_type": "stream",
     "text": [
      "[10, 2.3]\n",
      "['nit', 2.3, True, [1, 2, 3], 5, 10, 6, 4]\n"
     ]
    }
   ],
   "source": [
    "print(l1)\n",
    "print(l)"
   ]
  },
  {
   "cell_type": "code",
   "execution_count": 72,
   "id": "04249027-93f5-4613-b5f3-b8655b3b6bf3",
   "metadata": {},
   "outputs": [],
   "source": [
    "l1.extend(l)"
   ]
  },
  {
   "cell_type": "code",
   "execution_count": 73,
   "id": "1e323798-e655-4aba-a6a8-5d64b2d88f59",
   "metadata": {},
   "outputs": [
    {
     "data": {
      "text/plain": [
       "[10, 2.3, 'nit', 2.3, True, [1, 2, 3], 5, 10, 6, 4]"
      ]
     },
     "execution_count": 73,
     "metadata": {},
     "output_type": "execute_result"
    }
   ],
   "source": [
    "l1"
   ]
  },
  {
   "cell_type": "code",
   "execution_count": 74,
   "id": "1af0704a-12e2-4a75-b8eb-f02f48894ea2",
   "metadata": {},
   "outputs": [
    {
     "data": {
      "text/plain": [
       "['nit', 2.3, True, [1, 2, 3], 5, 10, 6, 4]"
      ]
     },
     "execution_count": 74,
     "metadata": {},
     "output_type": "execute_result"
    }
   ],
   "source": [
    "l"
   ]
  },
  {
   "cell_type": "code",
   "execution_count": 75,
   "id": "3328305a-a61e-4085-8e07-d41cce248eca",
   "metadata": {},
   "outputs": [],
   "source": [
    "l.reverse()"
   ]
  },
  {
   "cell_type": "code",
   "execution_count": 76,
   "id": "6a7860e6-69a0-4141-af9a-ed034403549e",
   "metadata": {},
   "outputs": [
    {
     "data": {
      "text/plain": [
       "[4, 6, 10, 5, [1, 2, 3], True, 2.3, 'nit']"
      ]
     },
     "execution_count": 76,
     "metadata": {},
     "output_type": "execute_result"
    }
   ],
   "source": [
    "l"
   ]
  },
  {
   "cell_type": "code",
   "execution_count": 77,
   "id": "e9ac6320-f867-4812-b041-627e4b0c6059",
   "metadata": {},
   "outputs": [
    {
     "data": {
      "text/plain": [
       "[300, 3, 34, 9, 100]"
      ]
     },
     "execution_count": 77,
     "metadata": {},
     "output_type": "execute_result"
    }
   ],
   "source": [
    "l5 = [300, 3, 34, 9, 100]\n",
    "l5"
   ]
  },
  {
   "cell_type": "code",
   "execution_count": 78,
   "id": "aa0365bc-15ca-4f82-9e2b-ee2f5d53fc50",
   "metadata": {},
   "outputs": [],
   "source": [
    "l5.sort() "
   ]
  },
  {
   "cell_type": "code",
   "execution_count": 79,
   "id": "93f9cba2-54fc-4399-9903-a8735b713469",
   "metadata": {},
   "outputs": [
    {
     "data": {
      "text/plain": [
       "[3, 9, 34, 100, 300]"
      ]
     },
     "execution_count": 79,
     "metadata": {},
     "output_type": "execute_result"
    }
   ],
   "source": [
    "l5"
   ]
  },
  {
   "cell_type": "code",
   "execution_count": 80,
   "id": "1bed5b72-958b-4099-b122-3ea0d16921ba",
   "metadata": {},
   "outputs": [],
   "source": [
    "l5.sort(reverse=True)"
   ]
  },
  {
   "cell_type": "code",
   "execution_count": 81,
   "id": "bffb39b0-c0cb-4637-a2d8-386a9e02c871",
   "metadata": {},
   "outputs": [
    {
     "data": {
      "text/plain": [
       "[300, 100, 34, 9, 3]"
      ]
     },
     "execution_count": 81,
     "metadata": {},
     "output_type": "execute_result"
    }
   ],
   "source": [
    "l5"
   ]
  },
  {
   "cell_type": "code",
   "execution_count": 82,
   "id": "4f2e2dd9-b046-4d3e-ab90-403fcee21ab7",
   "metadata": {},
   "outputs": [
    {
     "data": {
      "text/plain": [
       "[4, 6, 10, 5, [1, 2, 3], True, 2.3, 'nit']"
      ]
     },
     "execution_count": 82,
     "metadata": {},
     "output_type": "execute_result"
    }
   ],
   "source": [
    "l"
   ]
  },
  {
   "cell_type": "code",
   "execution_count": 83,
   "id": "9415a19a-455f-45d9-9e96-a4d5ac757ba6",
   "metadata": {},
   "outputs": [
    {
     "data": {
      "text/plain": [
       "[300, 100, 34, 9, 3]"
      ]
     },
     "execution_count": 83,
     "metadata": {},
     "output_type": "execute_result"
    }
   ],
   "source": [
    "l5"
   ]
  },
  {
   "cell_type": "code",
   "execution_count": 84,
   "id": "265da0bc-73b3-4c11-ba73-1f591d53334a",
   "metadata": {},
   "outputs": [],
   "source": [
    "l5[0] = 3000"
   ]
  },
  {
   "cell_type": "code",
   "execution_count": 85,
   "id": "d6a109bc-f999-4f0c-a2c4-a51048891d7c",
   "metadata": {},
   "outputs": [
    {
     "data": {
      "text/plain": [
       "[3000, 100, 34, 9, 3]"
      ]
     },
     "execution_count": 85,
     "metadata": {},
     "output_type": "execute_result"
    }
   ],
   "source": [
    "l5"
   ]
  },
  {
   "cell_type": "markdown",
   "id": "d58253be-56f3-4068-822c-e30c01aa0d8e",
   "metadata": {},
   "source": [
    "# list is completed"
   ]
  },
  {
   "cell_type": "code",
   "execution_count": 87,
   "id": "9ca6585c-3332-4f03-9ed3-14b21ecc08bc",
   "metadata": {},
   "outputs": [
    {
     "data": {
      "text/plain": [
       "[4, 6, 10, 5, [1, 2, 3], True, 2.3, 'nit']"
      ]
     },
     "execution_count": 87,
     "metadata": {},
     "output_type": "execute_result"
    }
   ],
   "source": [
    "l"
   ]
  },
  {
   "cell_type": "code",
   "execution_count": 88,
   "id": "645b4c0c-0752-4883-aefd-352026eb9625",
   "metadata": {},
   "outputs": [],
   "source": [
    "l6= l.copy()"
   ]
  },
  {
   "cell_type": "code",
   "execution_count": 89,
   "id": "d36e5fb2-f89a-4fc9-98a4-f0517a27e22b",
   "metadata": {},
   "outputs": [
    {
     "data": {
      "text/plain": [
       "[4, 6, 10, 5, [1, 2, 3], True, 2.3, 'nit']"
      ]
     },
     "execution_count": 89,
     "metadata": {},
     "output_type": "execute_result"
    }
   ],
   "source": [
    "l6"
   ]
  },
  {
   "cell_type": "markdown",
   "id": "11aa9a0e-fb5b-46ed-9e57-d38bc4c40930",
   "metadata": {},
   "source": [
    "# 4th -- TUPLE() & RANGE() "
   ]
  },
  {
   "cell_type": "code",
   "execution_count": 90,
   "id": "db6311e1-0856-4354-92d7-036057c1dbff",
   "metadata": {},
   "outputs": [
    {
     "data": {
      "text/plain": [
       "()"
      ]
     },
     "execution_count": 90,
     "metadata": {},
     "output_type": "execute_result"
    }
   ],
   "source": [
    "t = () \n",
    "t"
   ]
  },
  {
   "cell_type": "code",
   "execution_count": 91,
   "id": "ff1a7f60-37f5-43e8-a21e-988613ccb095",
   "metadata": {},
   "outputs": [
    {
     "data": {
      "text/plain": [
       "tuple"
      ]
     },
     "execution_count": 91,
     "metadata": {},
     "output_type": "execute_result"
    }
   ],
   "source": [
    "type(t)"
   ]
  },
  {
   "cell_type": "code",
   "execution_count": 92,
   "id": "be7d4be4-c9fd-4d89-87c6-b9cbfc7daedd",
   "metadata": {},
   "outputs": [
    {
     "data": {
      "text/plain": [
       "(10, 20, 30)"
      ]
     },
     "execution_count": 92,
     "metadata": {},
     "output_type": "execute_result"
    }
   ],
   "source": [
    "t = (10,20,30)\n",
    "t"
   ]
  },
  {
   "cell_type": "code",
   "execution_count": 93,
   "id": "96d51487-5df7-4c8a-8726-a03d88d6fd97",
   "metadata": {},
   "outputs": [
    {
     "data": {
      "text/plain": [
       "3"
      ]
     },
     "execution_count": 93,
     "metadata": {},
     "output_type": "execute_result"
    }
   ],
   "source": [
    "len(t)"
   ]
  },
  {
   "cell_type": "code",
   "execution_count": 94,
   "id": "54526c13-e7c1-4ec3-928a-8390825470a7",
   "metadata": {},
   "outputs": [
    {
     "data": {
      "text/plain": [
       "(10, 2.3, 'nit', (1+2j), True, 10, 20)"
      ]
     },
     "execution_count": 94,
     "metadata": {},
     "output_type": "execute_result"
    }
   ],
   "source": [
    "t1 = (10, 2.3, 'nit', 1+2j, True, 10, 20)\n",
    "t1"
   ]
  },
  {
   "cell_type": "code",
   "execution_count": 95,
   "id": "84fc0824-8f61-4950-b825-41f7d47dbba9",
   "metadata": {},
   "outputs": [
    {
     "name": "stdout",
     "output_type": "stream",
     "text": [
      "(10, 20, 30)\n",
      "(10, 2.3, 'nit', (1+2j), True, 10, 20)\n"
     ]
    }
   ],
   "source": [
    "print(t)\n",
    "print(t1)"
   ]
  },
  {
   "cell_type": "code",
   "execution_count": 96,
   "id": "61fcb1aa-ecc1-4c10-93d8-77a2f664c4da",
   "metadata": {},
   "outputs": [
    {
     "data": {
      "text/plain": [
       "1"
      ]
     },
     "execution_count": 96,
     "metadata": {},
     "output_type": "execute_result"
    }
   ],
   "source": [
    "t.count(10)"
   ]
  },
  {
   "cell_type": "code",
   "execution_count": 98,
   "id": "68c2ee8e-67bb-4b69-a4cb-169997c2e5b5",
   "metadata": {},
   "outputs": [
    {
     "data": {
      "text/plain": [
       "1"
      ]
     },
     "execution_count": 98,
     "metadata": {},
     "output_type": "execute_result"
    }
   ],
   "source": [
    "t1.count(2.3)"
   ]
  },
  {
   "cell_type": "code",
   "execution_count": 99,
   "id": "914939aa-ce1d-4022-a043-7fe60f01898f",
   "metadata": {},
   "outputs": [
    {
     "data": {
      "text/plain": [
       "(10, 2.3, 'nit', (1+2j), True, 10, 20)"
      ]
     },
     "execution_count": 99,
     "metadata": {},
     "output_type": "execute_result"
    }
   ],
   "source": [
    "t1"
   ]
  },
  {
   "cell_type": "code",
   "execution_count": 100,
   "id": "db520e58-2ffe-4a49-8df2-d299d0125067",
   "metadata": {},
   "outputs": [
    {
     "data": {
      "text/plain": [
       "1"
      ]
     },
     "execution_count": 100,
     "metadata": {},
     "output_type": "execute_result"
    }
   ],
   "source": [
    "t1.index(2.3)"
   ]
  },
  {
   "cell_type": "code",
   "execution_count": 101,
   "id": "5a1a2090-e0a1-4b13-86a0-b0c5a44a8aeb",
   "metadata": {},
   "outputs": [
    {
     "data": {
      "text/plain": [
       "(10, 20, 30)"
      ]
     },
     "execution_count": 101,
     "metadata": {},
     "output_type": "execute_result"
    }
   ],
   "source": [
    "t"
   ]
  },
  {
   "cell_type": "code",
   "execution_count": 102,
   "id": "eb447f23-227c-4ea4-a6c4-4738bc6e57f4",
   "metadata": {},
   "outputs": [
    {
     "data": {
      "text/plain": [
       "10"
      ]
     },
     "execution_count": 102,
     "metadata": {},
     "output_type": "execute_result"
    }
   ],
   "source": [
    "t[0]"
   ]
  },
  {
   "cell_type": "code",
   "execution_count": 103,
   "id": "15a8b7bb-8057-48af-be21-401ffa35e96d",
   "metadata": {},
   "outputs": [
    {
     "ename": "TypeError",
     "evalue": "'tuple' object does not support item assignment",
     "output_type": "error",
     "traceback": [
      "\u001b[1;31m---------------------------------------------------------------------------\u001b[0m",
      "\u001b[1;31mTypeError\u001b[0m                                 Traceback (most recent call last)",
      "Cell \u001b[1;32mIn[103], line 1\u001b[0m\n\u001b[1;32m----> 1\u001b[0m t[\u001b[38;5;241m0\u001b[39m] \u001b[38;5;241m=\u001b[39m \u001b[38;5;241m100\u001b[39m\n",
      "\u001b[1;31mTypeError\u001b[0m: 'tuple' object does not support item assignment"
     ]
    }
   ],
   "source": [
    "t[0] = 100 "
   ]
  },
  {
   "cell_type": "code",
   "execution_count": 104,
   "id": "290008ef-71d5-4f87-857c-ece5c34ad111",
   "metadata": {},
   "outputs": [
    {
     "data": {
      "text/plain": [
       "(123466, 'cizps67898y', 'dob-3rd mar 1987', 'mob:1234')"
      ]
     },
     "execution_count": 104,
     "metadata": {},
     "output_type": "execute_result"
    }
   ],
   "source": [
    "icici = (123466, 'cizps67898y', 'dob-3rd mar 1987', 'mob:1234')\n",
    "icici"
   ]
  },
  {
   "cell_type": "code",
   "execution_count": 105,
   "id": "b5f7280b-e47a-4efe-bde8-3d1f2a67e1bf",
   "metadata": {},
   "outputs": [
    {
     "ename": "TypeError",
     "evalue": "'tuple' object does not support item assignment",
     "output_type": "error",
     "traceback": [
      "\u001b[1;31m---------------------------------------------------------------------------\u001b[0m",
      "\u001b[1;31mTypeError\u001b[0m                                 Traceback (most recent call last)",
      "Cell \u001b[1;32mIn[105], line 1\u001b[0m\n\u001b[1;32m----> 1\u001b[0m icici[\u001b[38;5;241m0\u001b[39m] \u001b[38;5;241m=\u001b[39m \u001b[38;5;241m987645\u001b[39m\n",
      "\u001b[1;31mTypeError\u001b[0m: 'tuple' object does not support item assignment"
     ]
    }
   ],
   "source": [
    "icici[0] = 987645"
   ]
  },
  {
   "cell_type": "code",
   "execution_count": 106,
   "id": "f0b9ad23-dbe4-49a2-8388-38e353fb14a6",
   "metadata": {},
   "outputs": [
    {
     "data": {
      "text/plain": [
       "(10, 20, 30)"
      ]
     },
     "execution_count": 106,
     "metadata": {},
     "output_type": "execute_result"
    }
   ],
   "source": [
    "t "
   ]
  },
  {
   "cell_type": "code",
   "execution_count": 107,
   "id": "eefc4a7e-32d2-4f8d-94dd-0b0f459046f8",
   "metadata": {},
   "outputs": [
    {
     "data": {
      "text/plain": [
       "(10, 20, 30, 10, 20, 30, 10, 20, 30)"
      ]
     },
     "execution_count": 107,
     "metadata": {},
     "output_type": "execute_result"
    }
   ],
   "source": [
    "t2 = t * 3\n",
    "t2"
   ]
  },
  {
   "cell_type": "code",
   "execution_count": 108,
   "id": "779d7ed2-8a5d-4a05-b2a9-18163b6ae2bc",
   "metadata": {},
   "outputs": [
    {
     "data": {
      "text/plain": [
       "(10, 20, 30, 10, 20, 30, 10, 20, 30)"
      ]
     },
     "execution_count": 108,
     "metadata": {},
     "output_type": "execute_result"
    }
   ],
   "source": [
    "t2"
   ]
  },
  {
   "cell_type": "code",
   "execution_count": 110,
   "id": "104079e6-8e25-4a67-bec4-7789fc469e7e",
   "metadata": {},
   "outputs": [
    {
     "data": {
      "text/plain": [
       "(10, 2.3, 'nit', (1+2j), True, 10, 20)"
      ]
     },
     "execution_count": 110,
     "metadata": {},
     "output_type": "execute_result"
    }
   ],
   "source": [
    "t1"
   ]
  },
  {
   "cell_type": "code",
   "execution_count": 111,
   "id": "583955d7-773c-467d-9b2c-606c37a5823d",
   "metadata": {},
   "outputs": [
    {
     "data": {
      "text/plain": [
       "(2.3, 'nit', (1+2j), True, 10)"
      ]
     },
     "execution_count": 111,
     "metadata": {},
     "output_type": "execute_result"
    }
   ],
   "source": [
    "t1[1:6] "
   ]
  },
  {
   "cell_type": "code",
   "execution_count": 112,
   "id": "a982f1d4-a508-4d87-a232-544cd7fb617e",
   "metadata": {},
   "outputs": [
    {
     "data": {
      "text/plain": [
       "(10, 20, 30, 10, 20, 30, 10, 20, 30)"
      ]
     },
     "execution_count": 112,
     "metadata": {},
     "output_type": "execute_result"
    }
   ],
   "source": [
    "t2"
   ]
  },
  {
   "cell_type": "code",
   "execution_count": 113,
   "id": "51acad27-790c-4ba2-96c5-d587dbc146eb",
   "metadata": {},
   "outputs": [
    {
     "data": {
      "text/plain": [
       "(20, 20)"
      ]
     },
     "execution_count": 113,
     "metadata": {},
     "output_type": "execute_result"
    }
   ],
   "source": [
    "t2[1:6:3] "
   ]
  },
  {
   "cell_type": "code",
   "execution_count": 114,
   "id": "e1a18fe2-4752-4b89-a05b-1c3f8418a152",
   "metadata": {},
   "outputs": [
    {
     "data": {
      "text/plain": [
       "(10, 20, 30, 10, 20, 30, 10, 20, 30)"
      ]
     },
     "execution_count": 114,
     "metadata": {},
     "output_type": "execute_result"
    }
   ],
   "source": [
    "t2"
   ]
  },
  {
   "cell_type": "code",
   "execution_count": 115,
   "id": "72bbfae6-63c7-4052-a092-72b11d2b0556",
   "metadata": {},
   "outputs": [
    {
     "data": {
      "text/plain": [
       "(20,)"
      ]
     },
     "execution_count": 115,
     "metadata": {},
     "output_type": "execute_result"
    }
   ],
   "source": [
    "t2[1:6:5] "
   ]
  },
  {
   "cell_type": "code",
   "execution_count": 116,
   "id": "e56b6ba7-c087-4780-9c3c-2089fca518bf",
   "metadata": {},
   "outputs": [
    {
     "data": {
      "text/plain": [
       "(10, 20, 30, 10, 20, 30, 10, 20, 30)"
      ]
     },
     "execution_count": 116,
     "metadata": {},
     "output_type": "execute_result"
    }
   ],
   "source": [
    "t2"
   ]
  },
  {
   "cell_type": "code",
   "execution_count": 117,
   "id": "f5755731-d2bb-4df0-8de8-513a5154ec29",
   "metadata": {},
   "outputs": [
    {
     "data": {
      "text/plain": [
       "(10, 2.3, 'nit', (1+2j), True, 10, 20)"
      ]
     },
     "execution_count": 117,
     "metadata": {},
     "output_type": "execute_result"
    }
   ],
   "source": [
    "t1"
   ]
  },
  {
   "cell_type": "code",
   "execution_count": 118,
   "id": "77b9412f-8185-4b96-a621-23d284215bc7",
   "metadata": {},
   "outputs": [
    {
     "data": {
      "text/plain": [
       "(10, 2.3, 'nit', (1+2j), True, 10, 20)"
      ]
     },
     "execution_count": 118,
     "metadata": {},
     "output_type": "execute_result"
    }
   ],
   "source": [
    "t1[:]"
   ]
  },
  {
   "cell_type": "code",
   "execution_count": 119,
   "id": "d8f27b4a-d3b8-4938-ae48-aa4c16421ec9",
   "metadata": {},
   "outputs": [
    {
     "data": {
      "text/plain": [
       "(10, 2.3, 'nit', (1+2j), True, 10, 20)"
      ]
     },
     "execution_count": 119,
     "metadata": {},
     "output_type": "execute_result"
    }
   ],
   "source": [
    "t1"
   ]
  },
  {
   "cell_type": "code",
   "execution_count": 120,
   "id": "1e893aa9-0333-4418-b1d8-374a4a741b7c",
   "metadata": {},
   "outputs": [
    {
     "data": {
      "text/plain": [
       "(20, 10, True, (1+2j), 'nit', 2.3, 10)"
      ]
     },
     "execution_count": 120,
     "metadata": {},
     "output_type": "execute_result"
    }
   ],
   "source": [
    "t1[::-1]"
   ]
  },
  {
   "cell_type": "code",
   "execution_count": 121,
   "id": "1fc285bd-0da3-4e74-b888-ca96d8322e10",
   "metadata": {},
   "outputs": [
    {
     "data": {
      "text/plain": [
       "(10, 20, 30, 10, 20, 30, 10, 20, 30)"
      ]
     },
     "execution_count": 121,
     "metadata": {},
     "output_type": "execute_result"
    }
   ],
   "source": [
    "t2"
   ]
  },
  {
   "cell_type": "code",
   "execution_count": 122,
   "id": "456fd9eb-2c20-4751-a456-789307b97568",
   "metadata": {},
   "outputs": [
    {
     "data": {
      "text/plain": [
       "(30, 20, 10, 30, 20, 10, 30, 20, 10)"
      ]
     },
     "execution_count": 122,
     "metadata": {},
     "output_type": "execute_result"
    }
   ],
   "source": [
    "t2[::-1]"
   ]
  },
  {
   "cell_type": "code",
   "execution_count": 123,
   "id": "751bf5bb-3cba-4e0a-9da4-42b0cc2b70dc",
   "metadata": {},
   "outputs": [
    {
     "data": {
      "text/plain": [
       "(10, 20, 30, 10, 20, 30, 10, 20, 30)"
      ]
     },
     "execution_count": 123,
     "metadata": {},
     "output_type": "execute_result"
    }
   ],
   "source": [
    "t2"
   ]
  },
  {
   "cell_type": "code",
   "execution_count": 124,
   "id": "35070612-5f70-4161-bf43-4707369e3fb6",
   "metadata": {},
   "outputs": [
    {
     "data": {
      "text/plain": [
       "(30, 10, 20, 30, 10)"
      ]
     },
     "execution_count": 124,
     "metadata": {},
     "output_type": "execute_result"
    }
   ],
   "source": [
    "t2[::-2] "
   ]
  },
  {
   "cell_type": "code",
   "execution_count": 127,
   "id": "bc62069f-2ba2-4369-a60d-a61dfdbd9c44",
   "metadata": {},
   "outputs": [
    {
     "data": {
      "text/plain": [
       "(10, 20, 30, 10, 20, 30, 10, 20, 30)"
      ]
     },
     "execution_count": 127,
     "metadata": {},
     "output_type": "execute_result"
    }
   ],
   "source": [
    "t2"
   ]
  },
  {
   "cell_type": "code",
   "execution_count": null,
   "id": "12456c10-16b8-4d67-8d72-9ab776610bee",
   "metadata": {},
   "outputs": [],
   "source": [
    "t2[::-3] "
   ]
  },
  {
   "cell_type": "code",
   "execution_count": 125,
   "id": "5cc8e2c1-a4c5-4e45-9d93-4c2c325ee71c",
   "metadata": {},
   "outputs": [
    {
     "data": {
      "text/plain": [
       "(10, 20, 30, 10, 20, 30, 10, 20, 30)"
      ]
     },
     "execution_count": 125,
     "metadata": {},
     "output_type": "execute_result"
    }
   ],
   "source": [
    "t2"
   ]
  },
  {
   "cell_type": "code",
   "execution_count": 126,
   "id": "8dd0e069-5c1f-4600-a943-c02989e7c66a",
   "metadata": {},
   "outputs": [
    {
     "data": {
      "text/plain": [
       "(10, 30, 20, 10, 30)"
      ]
     },
     "execution_count": 126,
     "metadata": {},
     "output_type": "execute_result"
    }
   ],
   "source": [
    "t2[::2] "
   ]
  },
  {
   "cell_type": "code",
   "execution_count": 128,
   "id": "61826198-6816-4dd9-b932-e6c4f31b770f",
   "metadata": {},
   "outputs": [
    {
     "data": {
      "text/plain": [
       "(1, 2, 3, 4, 5, 6, 7, 8)"
      ]
     },
     "execution_count": 128,
     "metadata": {},
     "output_type": "execute_result"
    }
   ],
   "source": [
    "t = (1,2,3,4,5,6,7,8) \n",
    "t"
   ]
  },
  {
   "cell_type": "code",
   "execution_count": 129,
   "id": "cfb6e5dc-d8b0-44ab-9839-e89432f8b508",
   "metadata": {},
   "outputs": [
    {
     "data": {
      "text/plain": [
       "(4, 5, 6, 7)"
      ]
     },
     "execution_count": 129,
     "metadata": {},
     "output_type": "execute_result"
    }
   ],
   "source": [
    "t[3:-1]"
   ]
  },
  {
   "cell_type": "code",
   "execution_count": 130,
   "id": "83c34e48-4c50-47ef-b8ea-22f4c2059131",
   "metadata": {},
   "outputs": [
    {
     "data": {
      "text/plain": [
       "(1, 2, 3, 4, 5, 6, 7, 8)"
      ]
     },
     "execution_count": 130,
     "metadata": {},
     "output_type": "execute_result"
    }
   ],
   "source": [
    "t"
   ]
  },
  {
   "cell_type": "code",
   "execution_count": 131,
   "id": "ec274174-1ff7-43b2-b469-60482d325d8e",
   "metadata": {},
   "outputs": [
    {
     "data": {
      "text/plain": [
       "(2, 3, 4)"
      ]
     },
     "execution_count": 131,
     "metadata": {},
     "output_type": "execute_result"
    }
   ],
   "source": [
    "t[1:4]"
   ]
  },
  {
   "cell_type": "code",
   "execution_count": 132,
   "id": "e250cb94-d9c6-4ec7-a101-d018c7f04e16",
   "metadata": {},
   "outputs": [
    {
     "data": {
      "text/plain": [
       "(1, 2, 3, 4, 5, 6, 7, 8)"
      ]
     },
     "execution_count": 132,
     "metadata": {},
     "output_type": "execute_result"
    }
   ],
   "source": [
    "t"
   ]
  },
  {
   "cell_type": "code",
   "execution_count": 133,
   "id": "a432db35-3f7e-499a-8df8-a898729e3ee2",
   "metadata": {},
   "outputs": [
    {
     "data": {
      "text/plain": [
       "(2, 3, 4, 5, 6, 7, 8)"
      ]
     },
     "execution_count": 133,
     "metadata": {},
     "output_type": "execute_result"
    }
   ],
   "source": [
    "t [1:] "
   ]
  },
  {
   "cell_type": "code",
   "execution_count": 134,
   "id": "018fc46d-bb37-483d-8592-cc6843381371",
   "metadata": {},
   "outputs": [
    {
     "data": {
      "text/plain": [
       "(1, 2, 3, 4, 5, 6, 7, 8)"
      ]
     },
     "execution_count": 134,
     "metadata": {},
     "output_type": "execute_result"
    }
   ],
   "source": [
    "t"
   ]
  },
  {
   "cell_type": "code",
   "execution_count": 135,
   "id": "a382365b-520f-41a5-a07a-4f94be70bc76",
   "metadata": {},
   "outputs": [
    {
     "data": {
      "text/plain": [
       "(1, 2, 3, 4, 5)"
      ]
     },
     "execution_count": 135,
     "metadata": {},
     "output_type": "execute_result"
    }
   ],
   "source": [
    "t[:5] "
   ]
  },
  {
   "cell_type": "code",
   "execution_count": 136,
   "id": "fd37e6e5-6f05-4d19-9141-39f094ad0032",
   "metadata": {},
   "outputs": [
    {
     "data": {
      "text/plain": [
       "(1, 2, 3, 4, 5, 6, 7, 8)"
      ]
     },
     "execution_count": 136,
     "metadata": {},
     "output_type": "execute_result"
    }
   ],
   "source": [
    "t"
   ]
  },
  {
   "cell_type": "code",
   "execution_count": 137,
   "id": "2fe2f9bd-bd8e-4e06-9e3d-662487e61c22",
   "metadata": {},
   "outputs": [
    {
     "data": {
      "text/plain": [
       "(2, 5)"
      ]
     },
     "execution_count": 137,
     "metadata": {},
     "output_type": "execute_result"
    }
   ],
   "source": [
    "t[1:7:3]"
   ]
  },
  {
   "cell_type": "code",
   "execution_count": 138,
   "id": "d8143768-4978-4f64-84de-dcb9697e6843",
   "metadata": {},
   "outputs": [
    {
     "data": {
      "text/plain": [
       "(1, 2, 3, 4, 5, 6, 7, 8)"
      ]
     },
     "execution_count": 138,
     "metadata": {},
     "output_type": "execute_result"
    }
   ],
   "source": [
    "t"
   ]
  },
  {
   "cell_type": "code",
   "execution_count": 139,
   "id": "e8165498-108d-45d2-b8fb-5866da1415f2",
   "metadata": {},
   "outputs": [
    {
     "data": {
      "text/plain": [
       "(8, 7, 6, 5, 4, 3, 2, 1)"
      ]
     },
     "execution_count": 139,
     "metadata": {},
     "output_type": "execute_result"
    }
   ],
   "source": [
    "t[::-1]"
   ]
  },
  {
   "cell_type": "code",
   "execution_count": 140,
   "id": "817ecada-2949-46f0-ad02-952bb63a6692",
   "metadata": {},
   "outputs": [
    {
     "data": {
      "text/plain": [
       "(1, 2, 3, 4, 5, 6, 7, 8)"
      ]
     },
     "execution_count": 140,
     "metadata": {},
     "output_type": "execute_result"
    }
   ],
   "source": [
    "t[::1]"
   ]
  },
  {
   "cell_type": "code",
   "execution_count": 141,
   "id": "c948ce0a-0490-4520-a3aa-1a30718cc7e7",
   "metadata": {},
   "outputs": [
    {
     "data": {
      "text/plain": [
       "(1, 2, 3, 4, 5, 6, 7, 8)"
      ]
     },
     "execution_count": 141,
     "metadata": {},
     "output_type": "execute_result"
    }
   ],
   "source": [
    "t"
   ]
  },
  {
   "cell_type": "code",
   "execution_count": 142,
   "id": "292fedec-6fc1-4b63-aac3-9700d84b7a9d",
   "metadata": {},
   "outputs": [
    {
     "data": {
      "text/plain": [
       "(8, 5, 2)"
      ]
     },
     "execution_count": 142,
     "metadata": {},
     "output_type": "execute_result"
    }
   ],
   "source": [
    "t[::-3]"
   ]
  },
  {
   "cell_type": "code",
   "execution_count": 144,
   "id": "2e61b23b-ecd8-429c-a8a8-e6cfe388b040",
   "metadata": {},
   "outputs": [
    {
     "data": {
      "text/plain": [
       "(1, 2, 3, 4, 5, 6, 7, 8)"
      ]
     },
     "execution_count": 144,
     "metadata": {},
     "output_type": "execute_result"
    }
   ],
   "source": [
    "t"
   ]
  },
  {
   "cell_type": "code",
   "execution_count": 145,
   "id": "d476fb7e-9870-4496-86d0-e7535e125db5",
   "metadata": {},
   "outputs": [
    {
     "name": "stdout",
     "output_type": "stream",
     "text": [
      "1\n",
      "2\n",
      "3\n",
      "4\n",
      "5\n",
      "6\n",
      "7\n",
      "8\n"
     ]
    }
   ],
   "source": [
    "for i in t:\n",
    "    print(i)"
   ]
  },
  {
   "cell_type": "code",
   "execution_count": 147,
   "id": "1100a717-4f62-4499-969c-6befba3e3767",
   "metadata": {},
   "outputs": [
    {
     "name": "stdout",
     "output_type": "stream",
     "text": [
      "(0, 10)\n",
      "(1, 2.3)\n",
      "(2, 'nit')\n",
      "(3, (1+2j))\n",
      "(4, True)\n",
      "(5, 10)\n",
      "(6, 20)\n"
     ]
    }
   ],
   "source": [
    "for i in enumerate(t1):\n",
    "    print(i)"
   ]
  },
  {
   "cell_type": "markdown",
   "id": "cd2b584f-b32d-4c4f-a815-d6b869c83abf",
   "metadata": {},
   "source": [
    "# tupel we are completed"
   ]
  },
  {
   "cell_type": "code",
   "execution_count": 148,
   "id": "13c2c149-18c5-4729-a0d6-cb15fd46e141",
   "metadata": {},
   "outputs": [
    {
     "ename": "TypeError",
     "evalue": "range expected at least 1 argument, got 0",
     "output_type": "error",
     "traceback": [
      "\u001b[1;31m---------------------------------------------------------------------------\u001b[0m",
      "\u001b[1;31mTypeError\u001b[0m                                 Traceback (most recent call last)",
      "Cell \u001b[1;32mIn[148], line 1\u001b[0m\n\u001b[1;32m----> 1\u001b[0m \u001b[38;5;28mrange\u001b[39m()\n",
      "\u001b[1;31mTypeError\u001b[0m: range expected at least 1 argument, got 0"
     ]
    }
   ],
   "source": [
    "range()"
   ]
  },
  {
   "cell_type": "code",
   "execution_count": 149,
   "id": "8584f21a-2b47-4e29-9300-0e5b5a542742",
   "metadata": {},
   "outputs": [
    {
     "data": {
      "text/plain": [
       "range(0, 5)"
      ]
     },
     "execution_count": 149,
     "metadata": {},
     "output_type": "execute_result"
    }
   ],
   "source": [
    "range(5)"
   ]
  },
  {
   "cell_type": "code",
   "execution_count": 150,
   "id": "1e3ea9f7-635c-4c43-a168-3683773cca42",
   "metadata": {},
   "outputs": [
    {
     "data": {
      "text/plain": [
       "[0, 1, 2, 3, 4]"
      ]
     },
     "execution_count": 150,
     "metadata": {},
     "output_type": "execute_result"
    }
   ],
   "source": [
    "list(range(5))"
   ]
  },
  {
   "cell_type": "code",
   "execution_count": 151,
   "id": "3c6663b2-dc66-4cdf-b642-2088fbd23949",
   "metadata": {},
   "outputs": [
    {
     "data": {
      "text/plain": [
       "range(10, 20)"
      ]
     },
     "execution_count": 151,
     "metadata": {},
     "output_type": "execute_result"
    }
   ],
   "source": [
    "range(10,20)"
   ]
  },
  {
   "cell_type": "code",
   "execution_count": 152,
   "id": "dc939089-7b6f-430e-9835-7ac68b5785cd",
   "metadata": {},
   "outputs": [
    {
     "data": {
      "text/plain": [
       "[10, 11, 12, 13, 14, 15, 16, 17, 18, 19]"
      ]
     },
     "execution_count": 152,
     "metadata": {},
     "output_type": "execute_result"
    }
   ],
   "source": [
    "list(range(10,20))"
   ]
  },
  {
   "cell_type": "code",
   "execution_count": 153,
   "id": "3e1b92dd-4666-46d3-997c-5241a81d5697",
   "metadata": {},
   "outputs": [
    {
     "data": {
      "text/plain": [
       "range(10, 50, 5)"
      ]
     },
     "execution_count": 153,
     "metadata": {},
     "output_type": "execute_result"
    }
   ],
   "source": [
    "range(10,50,5)"
   ]
  },
  {
   "cell_type": "code",
   "execution_count": 154,
   "id": "2d762ce2-4de5-44c7-b4ca-edbe89ba7763",
   "metadata": {},
   "outputs": [
    {
     "data": {
      "text/plain": [
       "[10, 15, 20, 25, 30, 35, 40, 45]"
      ]
     },
     "execution_count": 154,
     "metadata": {},
     "output_type": "execute_result"
    }
   ],
   "source": [
    "list(range(10,50,5))"
   ]
  },
  {
   "cell_type": "code",
   "execution_count": 155,
   "id": "d4f7a517-3190-4667-8090-0c06d5d3d3ad",
   "metadata": {},
   "outputs": [
    {
     "ename": "TypeError",
     "evalue": "range expected at most 3 arguments, got 4",
     "output_type": "error",
     "traceback": [
      "\u001b[1;31m---------------------------------------------------------------------------\u001b[0m",
      "\u001b[1;31mTypeError\u001b[0m                                 Traceback (most recent call last)",
      "Cell \u001b[1;32mIn[155], line 1\u001b[0m\n\u001b[1;32m----> 1\u001b[0m \u001b[38;5;28mrange\u001b[39m(\u001b[38;5;241m10\u001b[39m,\u001b[38;5;241m50\u001b[39m,\u001b[38;5;241m5\u001b[39m,\u001b[38;5;241m1\u001b[39m)\n",
      "\u001b[1;31mTypeError\u001b[0m: range expected at most 3 arguments, got 4"
     ]
    }
   ],
   "source": [
    "range(10,50,5,1)"
   ]
  },
  {
   "cell_type": "markdown",
   "id": "63b20474-31fa-4259-82f4-63ffd50629fa",
   "metadata": {},
   "source": [
    "# LIST, TUPLE, RANGE -- We are completed"
   ]
  },
  {
   "cell_type": "code",
   "execution_count": 157,
   "id": "aefc16db-a39a-42ac-8af4-f708ba9d8621",
   "metadata": {},
   "outputs": [
    {
     "data": {
      "text/plain": [
       "dict"
      ]
     },
     "execution_count": 157,
     "metadata": {},
     "output_type": "execute_result"
    }
   ],
   "source": [
    "s = {}\n",
    "type(s)"
   ]
  },
  {
   "cell_type": "code",
   "execution_count": 158,
   "id": "e165fe68-bebc-495d-94d5-f4c4f433f5b7",
   "metadata": {},
   "outputs": [
    {
     "data": {
      "text/plain": [
       "set()"
      ]
     },
     "execution_count": 158,
     "metadata": {},
     "output_type": "execute_result"
    }
   ],
   "source": [
    "s1 = set()\n",
    "s1"
   ]
  },
  {
   "cell_type": "code",
   "execution_count": 159,
   "id": "e54b2555-dfcf-436b-935d-229debc6bac2",
   "metadata": {},
   "outputs": [
    {
     "data": {
      "text/plain": [
       "{1, 3, 4, 32, 50, 90}"
      ]
     },
     "execution_count": 159,
     "metadata": {},
     "output_type": "execute_result"
    }
   ],
   "source": [
    "s1 = {90, 4, 50, 32, 3, 1}\n",
    "s1"
   ]
  },
  {
   "cell_type": "code",
   "execution_count": 160,
   "id": "df9592c1-7379-4aba-ae48-f156e8ee69af",
   "metadata": {},
   "outputs": [
    {
     "data": {
      "text/plain": [
       "set"
      ]
     },
     "execution_count": 160,
     "metadata": {},
     "output_type": "execute_result"
    }
   ],
   "source": [
    "type(s1)"
   ]
  },
  {
   "cell_type": "code",
   "execution_count": 161,
   "id": "cf7917b4-00bf-4299-9744-bebb80096a65",
   "metadata": {},
   "outputs": [
    {
     "data": {
      "text/plain": [
       "{'a', 'd', 'm', 'o', 'z'}"
      ]
     },
     "execution_count": 161,
     "metadata": {},
     "output_type": "execute_result"
    }
   ],
   "source": [
    "s2 ={'z', 'm', 'a', 'o', 'd'}\n",
    "s2"
   ]
  },
  {
   "cell_type": "code",
   "execution_count": 163,
   "id": "faef80cb-5f91-4cb3-b80e-89962329ff06",
   "metadata": {},
   "outputs": [
    {
     "data": {
      "text/plain": [
       "set"
      ]
     },
     "execution_count": 163,
     "metadata": {},
     "output_type": "execute_result"
    }
   ],
   "source": [
    "type(s2)"
   ]
  },
  {
   "cell_type": "code",
   "execution_count": 164,
   "id": "626e22f4-4891-4f98-a8d1-cd9e6fbed2b3",
   "metadata": {},
   "outputs": [
    {
     "name": "stdout",
     "output_type": "stream",
     "text": [
      "{32, 1, 50, 3, 4, 90}\n",
      "{'a', 'd', 'z', 'm', 'o'}\n"
     ]
    }
   ],
   "source": [
    "print(s1)\n",
    "print(s2)"
   ]
  },
  {
   "cell_type": "code",
   "execution_count": 170,
   "id": "de4727e3-0c62-483c-86df-9cd11c62583d",
   "metadata": {},
   "outputs": [
    {
     "data": {
      "text/plain": [
       "{'a', 'd', 'm', 'o', 'z'}"
      ]
     },
     "execution_count": 170,
     "metadata": {},
     "output_type": "execute_result"
    }
   ],
   "source": [
    "s2"
   ]
  },
  {
   "cell_type": "code",
   "execution_count": 166,
   "id": "a50ceea7-348b-4b1f-9623-d813fc59ab25",
   "metadata": {},
   "outputs": [
    {
     "data": {
      "text/plain": [
       "5"
      ]
     },
     "execution_count": 166,
     "metadata": {},
     "output_type": "execute_result"
    }
   ],
   "source": [
    "len(s2)"
   ]
  },
  {
   "cell_type": "code",
   "execution_count": 168,
   "id": "c4b5aa9a-647c-4cc3-b20c-732e8874f3ec",
   "metadata": {},
   "outputs": [
    {
     "data": {
      "text/plain": [
       "{(1+2j), 1, 3.2, False, 'nit'}"
      ]
     },
     "execution_count": 168,
     "metadata": {},
     "output_type": "execute_result"
    }
   ],
   "source": [
    "s3 = {1, 3.2, 'nit', 1+2j, False}\n",
    "s3"
   ]
  },
  {
   "cell_type": "code",
   "execution_count": 169,
   "id": "8c9ea876-6296-46fb-a3d1-250565db87bf",
   "metadata": {},
   "outputs": [
    {
     "data": {
      "text/plain": [
       "{1, 3, 4, 32, 50, 90}"
      ]
     },
     "execution_count": 169,
     "metadata": {},
     "output_type": "execute_result"
    }
   ],
   "source": [
    "s1"
   ]
  },
  {
   "cell_type": "code",
   "execution_count": 171,
   "id": "22c49178-ad11-47ab-b27a-e90fc75c088d",
   "metadata": {},
   "outputs": [],
   "source": [
    "s1.add(1)"
   ]
  },
  {
   "cell_type": "code",
   "execution_count": 172,
   "id": "43a0b89e-ed48-4675-bd9f-065c723a068f",
   "metadata": {},
   "outputs": [
    {
     "data": {
      "text/plain": [
       "{1, 3, 4, 32, 50, 90}"
      ]
     },
     "execution_count": 172,
     "metadata": {},
     "output_type": "execute_result"
    }
   ],
   "source": [
    "s1"
   ]
  },
  {
   "cell_type": "code",
   "execution_count": 173,
   "id": "4c657f5b-250f-4f9b-93c9-f24149fd0952",
   "metadata": {},
   "outputs": [],
   "source": [
    "s1.add(100)"
   ]
  },
  {
   "cell_type": "code",
   "execution_count": 174,
   "id": "43da782b-cb4a-4523-94db-45f85bc18100",
   "metadata": {},
   "outputs": [
    {
     "data": {
      "text/plain": [
       "{1, 3, 4, 32, 50, 90, 100}"
      ]
     },
     "execution_count": 174,
     "metadata": {},
     "output_type": "execute_result"
    }
   ],
   "source": [
    "s1"
   ]
  },
  {
   "cell_type": "code",
   "execution_count": 175,
   "id": "e03120a9-789e-499c-afc6-8ed8ab793788",
   "metadata": {},
   "outputs": [
    {
     "data": {
      "text/plain": [
       "{1, 3, 4, 5, 32, 50, 90, 100}"
      ]
     },
     "execution_count": 175,
     "metadata": {},
     "output_type": "execute_result"
    }
   ],
   "source": [
    "s1.add(5)\n",
    "s1"
   ]
  },
  {
   "cell_type": "code",
   "execution_count": 177,
   "id": "aca5abe9-060d-4092-980d-cd2e4333befb",
   "metadata": {},
   "outputs": [
    {
     "name": "stdout",
     "output_type": "stream",
     "text": [
      "{32, 1, 50, 3, 4, 100, 5, 90}\n"
     ]
    }
   ],
   "source": [
    "print(s1)"
   ]
  },
  {
   "cell_type": "code",
   "execution_count": 178,
   "id": "d066a920-23cc-48f3-b2e1-8988ee5cdc0e",
   "metadata": {},
   "outputs": [
    {
     "data": {
      "text/plain": [
       "{(1+2j), 1, 3.2, False, 'nit'}"
      ]
     },
     "execution_count": 178,
     "metadata": {},
     "output_type": "execute_result"
    }
   ],
   "source": [
    "s3"
   ]
  },
  {
   "cell_type": "code",
   "execution_count": 179,
   "id": "541bdf5f-7845-465f-9b65-79e69450c539",
   "metadata": {},
   "outputs": [],
   "source": [
    "s3.clear()"
   ]
  },
  {
   "cell_type": "code",
   "execution_count": 182,
   "id": "1083c3cb-3ce7-4e0a-bcbd-1a71a85a6f70",
   "metadata": {},
   "outputs": [
    {
     "data": {
      "text/plain": [
       "{1, 3, 4, 5, 32, 50, 90, 100}"
      ]
     },
     "execution_count": 182,
     "metadata": {},
     "output_type": "execute_result"
    }
   ],
   "source": [
    "s1"
   ]
  },
  {
   "cell_type": "code",
   "execution_count": 183,
   "id": "64ade45f-3c46-4df2-9e8d-35e3c2494016",
   "metadata": {},
   "outputs": [
    {
     "data": {
      "text/plain": [
       "{1, 3, 4, 5, 32, 50, 90, 100}"
      ]
     },
     "execution_count": 183,
     "metadata": {},
     "output_type": "execute_result"
    }
   ],
   "source": [
    "s4 = s1.copy()\n",
    "s4"
   ]
  },
  {
   "cell_type": "code",
   "execution_count": 184,
   "id": "80d29a26-8308-4a9f-b7e1-5ebc3f0a9f63",
   "metadata": {},
   "outputs": [
    {
     "data": {
      "text/plain": [
       "{1, 3, 4, 5, 32, 50, 90, 100}"
      ]
     },
     "execution_count": 184,
     "metadata": {},
     "output_type": "execute_result"
    }
   ],
   "source": [
    "s1"
   ]
  },
  {
   "cell_type": "code",
   "execution_count": 185,
   "id": "8fc08c62-9712-49a8-bed2-cabf7828c7d4",
   "metadata": {},
   "outputs": [
    {
     "ename": "TypeError",
     "evalue": "'set' object is not subscriptable",
     "output_type": "error",
     "traceback": [
      "\u001b[1;31m---------------------------------------------------------------------------\u001b[0m",
      "\u001b[1;31mTypeError\u001b[0m                                 Traceback (most recent call last)",
      "Cell \u001b[1;32mIn[185], line 1\u001b[0m\n\u001b[1;32m----> 1\u001b[0m s1[\u001b[38;5;241m0\u001b[39m]\n",
      "\u001b[1;31mTypeError\u001b[0m: 'set' object is not subscriptable"
     ]
    }
   ],
   "source": [
    "s1[0]"
   ]
  },
  {
   "cell_type": "code",
   "execution_count": 186,
   "id": "259398fd-88ca-4bec-8969-16fb27d59cee",
   "metadata": {},
   "outputs": [
    {
     "data": {
      "text/plain": [
       "{1, 3, 4, 5, 32, 50, 90, 100}"
      ]
     },
     "execution_count": 186,
     "metadata": {},
     "output_type": "execute_result"
    }
   ],
   "source": [
    "s1"
   ]
  },
  {
   "cell_type": "code",
   "execution_count": 187,
   "id": "dfd6382a-32c9-4015-adc3-5d00523e0fff",
   "metadata": {},
   "outputs": [
    {
     "ename": "TypeError",
     "evalue": "'set' object is not subscriptable",
     "output_type": "error",
     "traceback": [
      "\u001b[1;31m---------------------------------------------------------------------------\u001b[0m",
      "\u001b[1;31mTypeError\u001b[0m                                 Traceback (most recent call last)",
      "Cell \u001b[1;32mIn[187], line 1\u001b[0m\n\u001b[1;32m----> 1\u001b[0m s1[\u001b[38;5;241m1\u001b[39m:\u001b[38;5;241m5\u001b[39m]\n",
      "\u001b[1;31mTypeError\u001b[0m: 'set' object is not subscriptable"
     ]
    }
   ],
   "source": [
    "s1[1:5]"
   ]
  },
  {
   "cell_type": "code",
   "execution_count": 188,
   "id": "7d7ba27b-c8cb-4142-94de-dfe397dd2542",
   "metadata": {},
   "outputs": [
    {
     "data": {
      "text/plain": [
       "{1, 3, 4, 5, 32, 50, 90, 100}"
      ]
     },
     "execution_count": 188,
     "metadata": {},
     "output_type": "execute_result"
    }
   ],
   "source": [
    "s1"
   ]
  },
  {
   "cell_type": "code",
   "execution_count": 189,
   "id": "c1863aab-957e-4fc4-8ddf-6b3895cba8a5",
   "metadata": {},
   "outputs": [
    {
     "data": {
      "text/plain": [
       "32"
      ]
     },
     "execution_count": 189,
     "metadata": {},
     "output_type": "execute_result"
    }
   ],
   "source": [
    "s1.pop()"
   ]
  },
  {
   "cell_type": "code",
   "execution_count": 190,
   "id": "f20b297b-6d8e-4e3d-a73d-0b9634ba18b7",
   "metadata": {},
   "outputs": [
    {
     "data": {
      "text/plain": [
       "{1, 3, 4, 5, 50, 90, 100}"
      ]
     },
     "execution_count": 190,
     "metadata": {},
     "output_type": "execute_result"
    }
   ],
   "source": [
    "s1"
   ]
  },
  {
   "cell_type": "code",
   "execution_count": 191,
   "id": "7f51d4b1-ed51-4c47-b236-7896249b0003",
   "metadata": {},
   "outputs": [
    {
     "data": {
      "text/plain": [
       "1"
      ]
     },
     "execution_count": 191,
     "metadata": {},
     "output_type": "execute_result"
    }
   ],
   "source": [
    "s1.pop()"
   ]
  },
  {
   "cell_type": "code",
   "execution_count": 192,
   "id": "1e6567bd-c7bd-40b8-8d15-fceaeafa2791",
   "metadata": {},
   "outputs": [
    {
     "data": {
      "text/plain": [
       "{3, 4, 5, 50, 90, 100}"
      ]
     },
     "execution_count": 192,
     "metadata": {},
     "output_type": "execute_result"
    }
   ],
   "source": [
    "s1"
   ]
  },
  {
   "cell_type": "code",
   "execution_count": 193,
   "id": "1ee28580-df11-4ec9-afbc-be5aee615fd0",
   "metadata": {},
   "outputs": [
    {
     "ename": "TypeError",
     "evalue": "set.pop() takes no arguments (1 given)",
     "output_type": "error",
     "traceback": [
      "\u001b[1;31m---------------------------------------------------------------------------\u001b[0m",
      "\u001b[1;31mTypeError\u001b[0m                                 Traceback (most recent call last)",
      "Cell \u001b[1;32mIn[193], line 1\u001b[0m\n\u001b[1;32m----> 1\u001b[0m s1\u001b[38;5;241m.\u001b[39mpop(\u001b[38;5;241m0\u001b[39m)\n",
      "\u001b[1;31mTypeError\u001b[0m: set.pop() takes no arguments (1 given)"
     ]
    }
   ],
   "source": [
    "s1.pop(0) "
   ]
  },
  {
   "cell_type": "code",
   "execution_count": 195,
   "id": "6b39155a-5fac-41e3-b1b1-5b08ec0f914b",
   "metadata": {},
   "outputs": [
    {
     "data": {
      "text/plain": [
       "{3, 4, 5, 50, 90, 100}"
      ]
     },
     "execution_count": 195,
     "metadata": {},
     "output_type": "execute_result"
    }
   ],
   "source": [
    "s1"
   ]
  },
  {
   "cell_type": "code",
   "execution_count": 196,
   "id": "df7740e1-97f7-438c-8b43-c30df66b6ce2",
   "metadata": {},
   "outputs": [],
   "source": [
    "s1.remove(4)"
   ]
  },
  {
   "cell_type": "code",
   "execution_count": 197,
   "id": "c494e543-5b5b-468a-9efa-58ec669ac1a5",
   "metadata": {},
   "outputs": [
    {
     "data": {
      "text/plain": [
       "{3, 5, 50, 90, 100}"
      ]
     },
     "execution_count": 197,
     "metadata": {},
     "output_type": "execute_result"
    }
   ],
   "source": [
    "s1"
   ]
  },
  {
   "cell_type": "code",
   "execution_count": 198,
   "id": "1a189d7d-3625-4a29-a693-4f09c205fde2",
   "metadata": {},
   "outputs": [
    {
     "ename": "KeyError",
     "evalue": "1000",
     "output_type": "error",
     "traceback": [
      "\u001b[1;31m---------------------------------------------------------------------------\u001b[0m",
      "\u001b[1;31mKeyError\u001b[0m                                  Traceback (most recent call last)",
      "Cell \u001b[1;32mIn[198], line 1\u001b[0m\n\u001b[1;32m----> 1\u001b[0m s1\u001b[38;5;241m.\u001b[39mremove(\u001b[38;5;241m1000\u001b[39m)\n",
      "\u001b[1;31mKeyError\u001b[0m: 1000"
     ]
    }
   ],
   "source": [
    "s1.remove(1000)"
   ]
  },
  {
   "cell_type": "code",
   "execution_count": 199,
   "id": "162a688d-2b5d-4a6f-9358-35123833b081",
   "metadata": {},
   "outputs": [
    {
     "data": {
      "text/plain": [
       "{3, 5, 50, 90, 100}"
      ]
     },
     "execution_count": 199,
     "metadata": {},
     "output_type": "execute_result"
    }
   ],
   "source": [
    "s1"
   ]
  },
  {
   "cell_type": "code",
   "execution_count": 202,
   "id": "9315aec7-526d-4e6a-a32b-ce146885bd12",
   "metadata": {},
   "outputs": [],
   "source": [
    "s1.discard(1000)"
   ]
  },
  {
   "cell_type": "code",
   "execution_count": 203,
   "id": "9cfad4ef-dc2c-43a6-936a-0cdc60f16cee",
   "metadata": {},
   "outputs": [
    {
     "data": {
      "text/plain": [
       "{3, 5, 50, 90, 100}"
      ]
     },
     "execution_count": 203,
     "metadata": {},
     "output_type": "execute_result"
    }
   ],
   "source": [
    "s1"
   ]
  },
  {
   "cell_type": "code",
   "execution_count": 205,
   "id": "3d6d535b-93f4-45e8-9d0e-0d6d44452b73",
   "metadata": {},
   "outputs": [
    {
     "data": {
      "text/plain": [
       "{5, 50, 90, 100}"
      ]
     },
     "execution_count": 205,
     "metadata": {},
     "output_type": "execute_result"
    }
   ],
   "source": [
    "s1.discard(3)\n",
    "s1"
   ]
  },
  {
   "cell_type": "code",
   "execution_count": 201,
   "id": "4636c882-d78b-452f-8f34-815074502443",
   "metadata": {},
   "outputs": [
    {
     "data": {
      "text/plain": [
       "False"
      ]
     },
     "execution_count": 201,
     "metadata": {},
     "output_type": "execute_result"
    }
   ],
   "source": [
    "1000 in s1"
   ]
  },
  {
   "cell_type": "code",
   "execution_count": 206,
   "id": "70807728-b098-478c-9949-cfe15bc63596",
   "metadata": {},
   "outputs": [
    {
     "data": {
      "text/plain": [
       "{5, 50, 90, 100, 1000}"
      ]
     },
     "execution_count": 206,
     "metadata": {},
     "output_type": "execute_result"
    }
   ],
   "source": [
    "s1.add(1000)\n",
    "s1"
   ]
  },
  {
   "cell_type": "markdown",
   "id": "4116dce1-d72b-4ab0-909e-e25aee931e0c",
   "metadata": {},
   "source": [
    "# set operation "
   ]
  },
  {
   "cell_type": "code",
   "execution_count": 207,
   "id": "e100513d-a221-4a37-a341-64a2bf6f15ad",
   "metadata": {},
   "outputs": [],
   "source": [
    "a = {1,2,3,4,5}\n",
    "b = {4,5,6,7,8}\n",
    "c = {8,9,10}"
   ]
  },
  {
   "cell_type": "code",
   "execution_count": 208,
   "id": "ee872fb9-91a7-49cf-b0a8-da8cfe39d15d",
   "metadata": {},
   "outputs": [
    {
     "data": {
      "text/plain": [
       "{1, 2, 3, 4, 5, 6, 7, 8}"
      ]
     },
     "execution_count": 208,
     "metadata": {},
     "output_type": "execute_result"
    }
   ],
   "source": [
    "a.union(b)"
   ]
  },
  {
   "cell_type": "code",
   "execution_count": 209,
   "id": "bf9695a3-8003-4565-bf95-e1d4e698e51d",
   "metadata": {},
   "outputs": [
    {
     "data": {
      "text/plain": [
       "{1, 2, 3, 4, 5, 6, 7, 8, 9, 10}"
      ]
     },
     "execution_count": 209,
     "metadata": {},
     "output_type": "execute_result"
    }
   ],
   "source": [
    "a.union(b,c)"
   ]
  },
  {
   "cell_type": "code",
   "execution_count": 210,
   "id": "5cb39776-b556-430c-903d-2b6eb5c30291",
   "metadata": {},
   "outputs": [
    {
     "data": {
      "text/plain": [
       "{1, 2, 3, 4, 5, 6, 7, 8}"
      ]
     },
     "execution_count": 210,
     "metadata": {},
     "output_type": "execute_result"
    }
   ],
   "source": [
    "a | b"
   ]
  },
  {
   "cell_type": "code",
   "execution_count": 211,
   "id": "5a4686bb-3777-48ab-8d09-fab08ffb29ac",
   "metadata": {},
   "outputs": [
    {
     "data": {
      "text/plain": [
       "{1, 2, 3, 4, 5, 6, 7, 8, 9, 10}"
      ]
     },
     "execution_count": 211,
     "metadata": {},
     "output_type": "execute_result"
    }
   ],
   "source": [
    "a | b | c"
   ]
  },
  {
   "cell_type": "code",
   "execution_count": 212,
   "id": "bee1a238-e6b5-4d14-8295-4c690ca45ab7",
   "metadata": {},
   "outputs": [
    {
     "name": "stdout",
     "output_type": "stream",
     "text": [
      "{1, 2, 3, 4, 5}\n",
      "{4, 5, 6, 7, 8}\n",
      "{8, 9, 10}\n"
     ]
    }
   ],
   "source": [
    "print(a)\n",
    "print(b)\n",
    "print(c)"
   ]
  },
  {
   "cell_type": "code",
   "execution_count": 213,
   "id": "09ffcfa7-48f0-404b-b96b-a393f65c03d0",
   "metadata": {},
   "outputs": [
    {
     "data": {
      "text/plain": [
       "{4, 5}"
      ]
     },
     "execution_count": 213,
     "metadata": {},
     "output_type": "execute_result"
    }
   ],
   "source": [
    "a.intersection(b)"
   ]
  },
  {
   "cell_type": "code",
   "execution_count": 214,
   "id": "330e3b1d-ac09-481c-bc0d-a8b1613fb678",
   "metadata": {},
   "outputs": [
    {
     "data": {
      "text/plain": [
       "set()"
      ]
     },
     "execution_count": 214,
     "metadata": {},
     "output_type": "execute_result"
    }
   ],
   "source": [
    "a.intersection(c)"
   ]
  },
  {
   "cell_type": "code",
   "execution_count": 215,
   "id": "2781b81b-8f52-4292-b5a6-f92bab2ee3d6",
   "metadata": {},
   "outputs": [
    {
     "data": {
      "text/plain": [
       "{4, 5}"
      ]
     },
     "execution_count": 215,
     "metadata": {},
     "output_type": "execute_result"
    }
   ],
   "source": [
    "a & b"
   ]
  },
  {
   "cell_type": "code",
   "execution_count": 216,
   "id": "b2681854-616d-4d63-96e1-d68dd5061075",
   "metadata": {},
   "outputs": [
    {
     "name": "stdout",
     "output_type": "stream",
     "text": [
      "{1, 2, 3, 4, 5}\n",
      "{4, 5, 6, 7, 8}\n",
      "{8, 9, 10}\n"
     ]
    }
   ],
   "source": [
    "print(a)\n",
    "print(b)\n",
    "print(c)"
   ]
  },
  {
   "cell_type": "code",
   "execution_count": 217,
   "id": "fbe4e23c-da29-48e5-bd20-ece6590c6913",
   "metadata": {},
   "outputs": [
    {
     "data": {
      "text/plain": [
       "{1, 2, 3}"
      ]
     },
     "execution_count": 217,
     "metadata": {},
     "output_type": "execute_result"
    }
   ],
   "source": [
    "a.difference(b)"
   ]
  },
  {
   "cell_type": "code",
   "execution_count": 218,
   "id": "c594379f-6c2a-4ba8-aa63-1c9a474c25e9",
   "metadata": {},
   "outputs": [
    {
     "data": {
      "text/plain": [
       "{6, 7, 8}"
      ]
     },
     "execution_count": 218,
     "metadata": {},
     "output_type": "execute_result"
    }
   ],
   "source": [
    "b.difference(a)"
   ]
  },
  {
   "cell_type": "code",
   "execution_count": 219,
   "id": "22bbe0f2-fd4b-4f83-a3c4-7a62b092ebf1",
   "metadata": {},
   "outputs": [
    {
     "data": {
      "text/plain": [
       "{4, 5, 6, 7}"
      ]
     },
     "execution_count": 219,
     "metadata": {},
     "output_type": "execute_result"
    }
   ],
   "source": [
    "b-c"
   ]
  },
  {
   "cell_type": "code",
   "execution_count": 220,
   "id": "6bdb6b4b-5128-4339-962f-27d4b3be3a78",
   "metadata": {},
   "outputs": [
    {
     "data": {
      "text/plain": [
       "{9, 10}"
      ]
     },
     "execution_count": 220,
     "metadata": {},
     "output_type": "execute_result"
    }
   ],
   "source": [
    "c-b"
   ]
  },
  {
   "cell_type": "code",
   "execution_count": 221,
   "id": "aae0b7e5-84c7-4b85-9b00-42213853e407",
   "metadata": {},
   "outputs": [
    {
     "data": {
      "text/plain": [
       "{1, 2, 3, 4, 5}"
      ]
     },
     "execution_count": 221,
     "metadata": {},
     "output_type": "execute_result"
    }
   ],
   "source": [
    "a-c"
   ]
  },
  {
   "cell_type": "code",
   "execution_count": 222,
   "id": "bfb3349d-dfdb-4b2e-99c4-a941cf58731b",
   "metadata": {},
   "outputs": [
    {
     "name": "stdout",
     "output_type": "stream",
     "text": [
      "{1, 2, 3, 4, 5}\n",
      "{4, 5, 6, 7, 8}\n",
      "{8, 9, 10}\n"
     ]
    }
   ],
   "source": [
    "print(a)\n",
    "print(b)\n",
    "print(c)"
   ]
  },
  {
   "cell_type": "code",
   "execution_count": 223,
   "id": "d36d3f53-2508-46e2-826b-c7b3a1e89589",
   "metadata": {},
   "outputs": [],
   "source": [
    "b.difference_update(c)"
   ]
  },
  {
   "cell_type": "code",
   "execution_count": 224,
   "id": "4b0c9846-9551-4c73-ada2-bde06afa43ca",
   "metadata": {},
   "outputs": [
    {
     "data": {
      "text/plain": [
       "{4, 5, 6, 7}"
      ]
     },
     "execution_count": 224,
     "metadata": {},
     "output_type": "execute_result"
    }
   ],
   "source": [
    "b"
   ]
  },
  {
   "cell_type": "code",
   "execution_count": 225,
   "id": "e1e14cbf-7f17-4f48-94db-ff5447c8ebb0",
   "metadata": {},
   "outputs": [
    {
     "name": "stdout",
     "output_type": "stream",
     "text": [
      "{1, 2, 3, 4, 5}\n",
      "{4, 5, 6, 7}\n",
      "{8, 9, 10}\n"
     ]
    }
   ],
   "source": [
    "print(a)\n",
    "print(b)\n",
    "print(c)"
   ]
  },
  {
   "cell_type": "code",
   "execution_count": 226,
   "id": "75aa2848-5932-4978-a2c7-4e634728113c",
   "metadata": {},
   "outputs": [
    {
     "data": {
      "text/plain": [
       "{1, 2, 3, 6, 7}"
      ]
     },
     "execution_count": 226,
     "metadata": {},
     "output_type": "execute_result"
    }
   ],
   "source": [
    "a.symmetric_difference(b)"
   ]
  },
  {
   "cell_type": "code",
   "execution_count": 227,
   "id": "5e31097b-d354-4298-abc4-a55fed27f00c",
   "metadata": {},
   "outputs": [
    {
     "data": {
      "text/plain": [
       "{1, 2, 3, 6, 7}"
      ]
     },
     "execution_count": 227,
     "metadata": {},
     "output_type": "execute_result"
    }
   ],
   "source": [
    "a^b"
   ]
  },
  {
   "cell_type": "markdown",
   "id": "a06f333f-f4fd-4291-a745-339f948678d9",
   "metadata": {},
   "source": [
    "# 6th Aug "
   ]
  },
  {
   "cell_type": "markdown",
   "id": "78336922-58b2-4fe2-91fc-5ae41619b8e6",
   "metadata": {},
   "source": [
    "# Superset, Subset , Disjoint"
   ]
  },
  {
   "cell_type": "code",
   "execution_count": 1,
   "id": "7ce0d82b-1ec0-473b-8691-8d227a377f2b",
   "metadata": {},
   "outputs": [],
   "source": [
    "a1 = {1,2,3,4,5,6,7,8,9} \n",
    "b1 = {3,4,5,6,7,8}\n",
    "c1 = {10,20,30,40}"
   ]
  },
  {
   "cell_type": "code",
   "execution_count": 2,
   "id": "b2587dbf-a9d7-4829-9599-81eccf3826c8",
   "metadata": {},
   "outputs": [
    {
     "data": {
      "text/plain": [
       "True"
      ]
     },
     "execution_count": 2,
     "metadata": {},
     "output_type": "execute_result"
    }
   ],
   "source": [
    "a1.issuperset(b1) "
   ]
  },
  {
   "cell_type": "code",
   "execution_count": 3,
   "id": "a1d80d89-3217-410a-907f-2c2dd7b327fe",
   "metadata": {},
   "outputs": [
    {
     "data": {
      "text/plain": [
       "True"
      ]
     },
     "execution_count": 3,
     "metadata": {},
     "output_type": "execute_result"
    }
   ],
   "source": [
    "b1.issubset(a1) "
   ]
  },
  {
   "cell_type": "code",
   "execution_count": 4,
   "id": "c42bd3de-1ede-4893-b0e7-77c99253e151",
   "metadata": {},
   "outputs": [
    {
     "data": {
      "text/plain": [
       "True"
      ]
     },
     "execution_count": 4,
     "metadata": {},
     "output_type": "execute_result"
    }
   ],
   "source": [
    "c1.isdisjoint(a1)"
   ]
  },
  {
   "cell_type": "code",
   "execution_count": 5,
   "id": "f3a4fdcb-62c0-4824-9ad0-a52736778053",
   "metadata": {},
   "outputs": [],
   "source": [
    "a1 = {1,2,3,4,5,6,7,8,9}\n",
    "b1 = {3,4,5,6,7,8}\n",
    "c1 = {10,20,30,40}"
   ]
  },
  {
   "cell_type": "code",
   "execution_count": 6,
   "id": "04f0be58-8b47-4942-83c3-66d10b4dd3e2",
   "metadata": {},
   "outputs": [
    {
     "data": {
      "text/plain": [
       "False"
      ]
     },
     "execution_count": 6,
     "metadata": {},
     "output_type": "execute_result"
    }
   ],
   "source": [
    "b1.isdisjoint(a1) "
   ]
  },
  {
   "cell_type": "code",
   "execution_count": 7,
   "id": "5b4f94bf-825a-4481-8fa3-c3a566ba0fa1",
   "metadata": {},
   "outputs": [
    {
     "data": {
      "text/plain": [
       "True"
      ]
     },
     "execution_count": 7,
     "metadata": {},
     "output_type": "execute_result"
    }
   ],
   "source": [
    "b1.isdisjoint(c1)"
   ]
  },
  {
   "cell_type": "code",
   "execution_count": 9,
   "id": "c798dc32-c121-4454-ad7c-a3ce3c278f68",
   "metadata": {},
   "outputs": [],
   "source": [
    "a2 = {1,2,3,4,5,6,7,8,9}\n",
    "b2 = {35,45,55,65,75,58}\n",
    "c2 = {10,20,30,40}"
   ]
  },
  {
   "cell_type": "code",
   "execution_count": 10,
   "id": "99043058-3495-4d69-9dd1-28c24113de7a",
   "metadata": {},
   "outputs": [
    {
     "data": {
      "text/plain": [
       "True"
      ]
     },
     "execution_count": 10,
     "metadata": {},
     "output_type": "execute_result"
    }
   ],
   "source": [
    "a2.isdisjoint(b2)"
   ]
  },
  {
   "cell_type": "code",
   "execution_count": 11,
   "id": "57923d9d-f029-418a-87cd-052dbdc9a982",
   "metadata": {},
   "outputs": [
    {
     "data": {
      "text/plain": [
       "False"
      ]
     },
     "execution_count": 11,
     "metadata": {},
     "output_type": "execute_result"
    }
   ],
   "source": [
    "b2.issubset(a2)"
   ]
  },
  {
   "cell_type": "code",
   "execution_count": 12,
   "id": "c4b3ebb6-6eee-4a1d-9ba6-5a6ac0c92d37",
   "metadata": {},
   "outputs": [
    {
     "data": {
      "text/plain": [
       "True"
      ]
     },
     "execution_count": 12,
     "metadata": {},
     "output_type": "execute_result"
    }
   ],
   "source": [
    "c2.isdisjoint(a2)"
   ]
  },
  {
   "cell_type": "markdown",
   "id": "efc08f87-5a71-4bd6-b727-6e7ff9c9b4cb",
   "metadata": {},
   "source": [
    "# Dictionary "
   ]
  },
  {
   "cell_type": "code",
   "execution_count": 13,
   "id": "9f7ddabe-004f-4aa3-94bf-85998b856ddb",
   "metadata": {},
   "outputs": [
    {
     "data": {
      "text/plain": [
       "{}"
      ]
     },
     "execution_count": 13,
     "metadata": {},
     "output_type": "execute_result"
    }
   ],
   "source": [
    "d = {} \n",
    "d"
   ]
  },
  {
   "cell_type": "code",
   "execution_count": 14,
   "id": "72da98ac-92d8-495e-922b-368b4e257db2",
   "metadata": {},
   "outputs": [
    {
     "data": {
      "text/plain": [
       "dict"
      ]
     },
     "execution_count": 14,
     "metadata": {},
     "output_type": "execute_result"
    }
   ],
   "source": [
    "type(d)"
   ]
  },
  {
   "cell_type": "code",
   "execution_count": 15,
   "id": "5463cde1-f131-48a1-ae46-fe7391ca3d2f",
   "metadata": {},
   "outputs": [
    {
     "data": {
      "text/plain": [
       "{1: 'one', 2: 'two', 3: 'three'}"
      ]
     },
     "execution_count": 15,
     "metadata": {},
     "output_type": "execute_result"
    }
   ],
   "source": [
    "d1 = {1:'one' , 2:'two' , 3:'three'} \n",
    "d1"
   ]
  },
  {
   "cell_type": "code",
   "execution_count": 17,
   "id": "d58972ac-3a79-4300-b5ad-eb613b975bbf",
   "metadata": {},
   "outputs": [
    {
     "data": {
      "text/plain": [
       "dict_keys([1, 2, 3])"
      ]
     },
     "execution_count": 17,
     "metadata": {},
     "output_type": "execute_result"
    }
   ],
   "source": [
    "d1.keys()"
   ]
  },
  {
   "cell_type": "code",
   "execution_count": 18,
   "id": "71c18126-d413-4d29-a3d4-91590c4438a6",
   "metadata": {},
   "outputs": [
    {
     "data": {
      "text/plain": [
       "dict_values(['one', 'two', 'three'])"
      ]
     },
     "execution_count": 18,
     "metadata": {},
     "output_type": "execute_result"
    }
   ],
   "source": [
    "d1.values()"
   ]
  },
  {
   "cell_type": "code",
   "execution_count": 19,
   "id": "271d81e7-49ac-4382-80f2-3b6c42518f08",
   "metadata": {},
   "outputs": [
    {
     "data": {
      "text/plain": [
       "dict_items([(1, 'one'), (2, 'two'), (3, 'three')])"
      ]
     },
     "execution_count": 19,
     "metadata": {},
     "output_type": "execute_result"
    }
   ],
   "source": [
    "d1.items()"
   ]
  },
  {
   "cell_type": "code",
   "execution_count": 20,
   "id": "b0c538b0-0769-4996-ace6-13740e061cdc",
   "metadata": {},
   "outputs": [
    {
     "ename": "KeyError",
     "evalue": "0",
     "output_type": "error",
     "traceback": [
      "\u001b[1;31m---------------------------------------------------------------------------\u001b[0m",
      "\u001b[1;31mKeyError\u001b[0m                                  Traceback (most recent call last)",
      "Cell \u001b[1;32mIn[20], line 1\u001b[0m\n\u001b[1;32m----> 1\u001b[0m d1[\u001b[38;5;241m0\u001b[39m]\n",
      "\u001b[1;31mKeyError\u001b[0m: 0"
     ]
    }
   ],
   "source": [
    "d1[0]"
   ]
  },
  {
   "cell_type": "code",
   "execution_count": 21,
   "id": "7d012537-8a23-4d45-8c31-74f981526cd6",
   "metadata": {},
   "outputs": [
    {
     "data": {
      "text/plain": [
       "'one'"
      ]
     },
     "execution_count": 21,
     "metadata": {},
     "output_type": "execute_result"
    }
   ],
   "source": [
    "d1[1]"
   ]
  },
  {
   "cell_type": "code",
   "execution_count": 22,
   "id": "53fd95ec-eec2-4b76-a52c-76abc32f0ab1",
   "metadata": {},
   "outputs": [
    {
     "ename": "KeyError",
     "evalue": "'one'",
     "output_type": "error",
     "traceback": [
      "\u001b[1;31m---------------------------------------------------------------------------\u001b[0m",
      "\u001b[1;31mKeyError\u001b[0m                                  Traceback (most recent call last)",
      "Cell \u001b[1;32mIn[22], line 1\u001b[0m\n\u001b[1;32m----> 1\u001b[0m d1[\u001b[38;5;124m'\u001b[39m\u001b[38;5;124mone\u001b[39m\u001b[38;5;124m'\u001b[39m]\n",
      "\u001b[1;31mKeyError\u001b[0m: 'one'"
     ]
    }
   ],
   "source": [
    "d1['one']"
   ]
  },
  {
   "cell_type": "code",
   "execution_count": 23,
   "id": "f94ef316-7a6a-46d6-aca5-1312f4294735",
   "metadata": {},
   "outputs": [
    {
     "data": {
      "text/plain": [
       "{1: 'one', 2: 'two', 3: 'three'}"
      ]
     },
     "execution_count": 23,
     "metadata": {},
     "output_type": "execute_result"
    }
   ],
   "source": [
    "d1"
   ]
  },
  {
   "cell_type": "code",
   "execution_count": 28,
   "id": "1f1ad0de-721f-48a1-89ff-e6f5576757c7",
   "metadata": {},
   "outputs": [],
   "source": [
    "d1.get(4)"
   ]
  },
  {
   "cell_type": "code",
   "execution_count": 29,
   "id": "80168ade-a2b1-48dc-b159-2484a2e89d68",
   "metadata": {},
   "outputs": [
    {
     "data": {
      "text/plain": [
       "{1: 'one', 2: 'two', 3: 'three'}"
      ]
     },
     "execution_count": 29,
     "metadata": {},
     "output_type": "execute_result"
    }
   ],
   "source": [
    "d1"
   ]
  },
  {
   "cell_type": "code",
   "execution_count": 30,
   "id": "52e655ff-2681-44e8-99de-777538ef7ef0",
   "metadata": {},
   "outputs": [
    {
     "name": "stdout",
     "output_type": "stream",
     "text": [
      "1\n",
      "2\n",
      "3\n"
     ]
    }
   ],
   "source": []
  },
  {
   "cell_type": "code",
   "execution_count": 31,
   "id": "08d2903f-cc87-48c0-96c0-43314b6e44ba",
   "metadata": {},
   "outputs": [
    {
     "data": {
      "text/plain": [
       "2250196932736"
      ]
     },
     "execution_count": 31,
     "metadata": {},
     "output_type": "execute_result"
    }
   ],
   "source": [
    "id(d1)"
   ]
  },
  {
   "cell_type": "code",
   "execution_count": 32,
   "id": "909a3726-271a-4d28-aba3-8bce8e572a2c",
   "metadata": {},
   "outputs": [
    {
     "data": {
      "text/plain": [
       "{1: 'one', 2: 'two', 3: 'three'}"
      ]
     },
     "execution_count": 32,
     "metadata": {},
     "output_type": "execute_result"
    }
   ],
   "source": [
    "d1"
   ]
  },
  {
   "cell_type": "code",
   "execution_count": 33,
   "id": "d5508945-dbf4-4a21-89de-25975ea11507",
   "metadata": {},
   "outputs": [
    {
     "data": {
      "text/plain": [
       "'one'"
      ]
     },
     "execution_count": 33,
     "metadata": {},
     "output_type": "execute_result"
    }
   ],
   "source": [
    "d1[1]"
   ]
  },
  {
   "cell_type": "code",
   "execution_count": 34,
   "id": "27b22b26-5526-42bf-a81e-593604abeb5a",
   "metadata": {},
   "outputs": [
    {
     "data": {
      "text/plain": [
       "'one'"
      ]
     },
     "execution_count": 34,
     "metadata": {},
     "output_type": "execute_result"
    }
   ],
   "source": [
    "d1.get(1)"
   ]
  },
  {
   "cell_type": "code",
   "execution_count": 35,
   "id": "09635d97-850e-46c1-a06a-254f2535b96a",
   "metadata": {},
   "outputs": [
    {
     "data": {
      "text/plain": [
       "{1: 'one', 2: 'two', 3: 'three'}"
      ]
     },
     "execution_count": 35,
     "metadata": {},
     "output_type": "execute_result"
    }
   ],
   "source": [
    "d1"
   ]
  },
  {
   "cell_type": "code",
   "execution_count": 36,
   "id": "9cd204b9-6295-4a18-871f-f5de6df2ae4f",
   "metadata": {},
   "outputs": [
    {
     "name": "stdout",
     "output_type": "stream",
     "text": [
      "1\n",
      "2\n",
      "3\n"
     ]
    }
   ],
   "source": [
    "for i in d1:\n",
    "    print(i)"
   ]
  },
  {
   "cell_type": "code",
   "execution_count": 38,
   "id": "175001ea-8228-4238-9794-1d9827b0f4f4",
   "metadata": {},
   "outputs": [
    {
     "name": "stdout",
     "output_type": "stream",
     "text": [
      "1 : one\n",
      "2 : two\n",
      "3 : three\n"
     ]
    }
   ],
   "source": [
    "for i in d1:\n",
    "    print(i , ':' , d1[i])"
   ]
  },
  {
   "cell_type": "code",
   "execution_count": null,
   "id": "26e526e5-6a15-43b2-9bad-5ca3864ca55d",
   "metadata": {},
   "outputs": [],
   "source": []
  },
  {
   "cell_type": "code",
   "execution_count": null,
   "id": "4569a696-0b1a-41fc-9fd4-cb4aec4b3f36",
   "metadata": {},
   "outputs": [],
   "source": []
  }
 ],
 "metadata": {
  "kernelspec": {
   "display_name": "Python 3 (ipykernel)",
   "language": "python",
   "name": "python3"
  },
  "language_info": {
   "codemirror_mode": {
    "name": "ipython",
    "version": 3
   },
   "file_extension": ".py",
   "mimetype": "text/x-python",
   "name": "python",
   "nbconvert_exporter": "python",
   "pygments_lexer": "ipython3",
   "version": "3.12.7"
  }
 },
 "nbformat": 4,
 "nbformat_minor": 5
}
